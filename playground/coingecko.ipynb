{
 "cells": [
  {
   "cell_type": "code",
   "execution_count": 5,
   "id": "initial_id",
   "metadata": {
    "collapsed": true,
    "ExecuteTime": {
     "end_time": "2024-04-01T20:29:26.965528Z",
     "start_time": "2024-04-01T20:29:26.961197Z"
    }
   },
   "outputs": [],
   "source": [
    "import requests\n",
    "import os \n",
    "import time \n",
    "\n",
    "os.environ['COINMARKETCAP_API_KEY'] = 'CG-mETiggwB5XXC5scj2tZuvKRN'\n",
    "\n",
    "BASE_URL = \"https://api.coingecko.com/api/v3/\""
   ]
  },
  {
   "cell_type": "code",
   "execution_count": 15,
   "id": "5679ff2b",
   "metadata": {
    "ExecuteTime": {
     "end_time": "2024-04-01T20:34:17.071712Z",
     "start_time": "2024-04-01T20:34:17.065205Z"
    }
   },
   "outputs": [],
   "source": [
    "url = BASE_URL + \"coins/markets?vs_currency=usd&order=market_cap_desc\"\n",
    "info_url = BASE_URL + \"coins/markets\"\n",
    "headers = {\"x-cg-api-key\": \"CG-mETiggwB5XXC5scj2tZuvKRN\"}"
   ]
  },
  {
   "cell_type": "code",
   "outputs": [],
   "source": [
    "requests.get(url, headers=headers).json()"
   ],
   "metadata": {
    "collapsed": false
   },
   "id": "6de4fe8fb2d43c51",
   "execution_count": null
  },
  {
   "cell_type": "code",
   "execution_count": 3,
   "id": "05f829f4",
   "metadata": {
    "ExecuteTime": {
     "end_time": "2024-03-31T20:16:54.182029Z",
     "start_time": "2024-03-31T20:16:52.612845Z"
    }
   },
   "outputs": [],
   "source": [
    "coins = []\n",
    "\n",
    "for i in range(3):\n",
    "    response = requests.get(f\"{url}/per_page=100&page={i}\", headers=headers)\n",
    "    coins_batch = response.json()\n",
    "    coins += coins_batch"
   ]
  },
  {
   "cell_type": "code",
   "outputs": [
    {
     "data": {
      "text/plain": "300"
     },
     "execution_count": 4,
     "metadata": {},
     "output_type": "execute_result"
    }
   ],
   "source": [
    "len(coins)"
   ],
   "metadata": {
    "collapsed": false,
    "ExecuteTime": {
     "end_time": "2024-03-31T20:17:06.082371Z",
     "start_time": "2024-03-31T20:17:06.075438Z"
    }
   },
   "id": "78bef79b2f933f00",
   "execution_count": 4
  },
  {
   "cell_type": "code",
   "execution_count": 50,
   "id": "e1cb221f",
   "metadata": {},
   "outputs": [],
   "source": [
    "# coin_to_description = {}"
   ]
  },
  {
   "cell_type": "code",
   "execution_count": 69,
   "id": "c0f062ed",
   "metadata": {},
   "outputs": [],
   "source": [
    "response = requests.get(f\"{info_url}/{coins[0]['id']}?localization=false&tickers=false&market_data=false&community_data=false&developer_data=false\", headers=headers)"
   ]
  },
  {
   "cell_type": "code",
   "execution_count": null,
   "id": "3db73f1e",
   "metadata": {},
   "outputs": [],
   "source": [
    "response.json()"
   ]
  },
  {
   "cell_type": "code",
   "execution_count": null,
   "id": "a7e61b87",
   "metadata": {},
   "outputs": [],
   "source": []
  },
  {
   "cell_type": "code",
   "execution_count": null,
   "id": "95048713",
   "metadata": {},
   "outputs": [],
   "source": [
    "for i, coin in enumerate(coins[66:500]):\n",
    "    response = requests.get(f\"{info_url}/{coin['id']}?localization=false&tickers=false&market_data=false&community_data=false&developer_data=false\", headers=headers)\n",
    "    coin_data = response.json()\n",
    "    print(coin_data)\n",
    "    description = coin_data['description']['en']\n",
    "    coin_to_description[coin['id']] = description\n",
    "    if i % 5 == 0:\n",
    "        time.sleep(61)"
   ]
  },
  {
   "cell_type": "code",
   "execution_count": null,
   "id": "555ea6ca",
   "metadata": {},
   "outputs": [],
   "source": [
    "len(coin_to_description)"
   ]
  },
  {
   "cell_type": "code",
   "execution_count": 107,
   "id": "32a50d95",
   "metadata": {},
   "outputs": [],
   "source": [
    "import json\n",
    "\n",
    "with open(\"../data/coin-description.json\", \"w\") as f:\n",
    "    json.dump(coin_to_description, f)"
   ]
  },
  {
   "cell_type": "code",
   "execution_count": null,
   "id": "c2947229",
   "metadata": {},
   "outputs": [],
   "source": [
    "len(coins)"
   ]
  },
  {
   "cell_type": "code",
   "execution_count": null,
   "id": "ab80de7d",
   "metadata": {},
   "outputs": [],
   "source": [
    "ls ../"
   ]
  },
  {
   "cell_type": "code",
   "execution_count": 93,
   "id": "b6a03ae9",
   "metadata": {},
   "outputs": [],
   "source": [
    "from pathlib import Path\n",
    "from pprint import pprint\n",
    "\n",
    "\n",
    "file_path='../data/coin-description.json'\n",
    "data = json.loads(Path(file_path).read_text())"
   ]
  },
  {
   "cell_type": "code",
   "execution_count": 101,
   "id": "4bcb209e",
   "metadata": {},
   "outputs": [],
   "source": [
    "from langchain_community.document_loaders import JSONLoader\n",
    "loader = JSONLoader(\n",
    "    file_path='../data/coin-description.json',\n",
    "    jq_schema='.[]',\n",
    "    text_content=False\n",
    ")\n",
    "\n",
    "data = loader.load()"
   ]
  },
  {
   "cell_type": "code",
   "execution_count": null,
   "id": "d8c51417",
   "metadata": {},
   "outputs": [],
   "source": []
  },
  {
   "cell_type": "code",
   "outputs": [],
   "source": [],
   "metadata": {
    "collapsed": false
   },
   "id": "2d00d4ee47152d11"
  },
  {
   "cell_type": "code",
   "outputs": [],
   "source": [],
   "metadata": {
    "collapsed": false
   },
   "id": "9bac600c1dd1640b"
  },
  {
   "cell_type": "code",
   "outputs": [],
   "source": [
    "result = requests.get(\"https://token.jup.ag/strict\").json()"
   ],
   "metadata": {
    "collapsed": false,
    "ExecuteTime": {
     "end_time": "2024-04-01T23:09:32.684179Z",
     "start_time": "2024-04-01T23:09:32.279613Z"
    }
   },
   "id": "dedffb2445aba438",
   "execution_count": 76
  },
  {
   "cell_type": "code",
   "outputs": [],
   "source": [
    "address_to_token = {}"
   ],
   "metadata": {
    "collapsed": false,
    "ExecuteTime": {
     "end_time": "2024-04-01T23:09:32.691335Z",
     "start_time": "2024-04-01T23:09:32.684234Z"
    }
   },
   "id": "13480a7707e4aa16",
   "execution_count": 77
  },
  {
   "cell_type": "code",
   "outputs": [],
   "source": [
    "for token in result:\n",
    "    address = token['address']\n",
    "    address_to_token[address] = token"
   ],
   "metadata": {
    "collapsed": false,
    "ExecuteTime": {
     "end_time": "2024-04-01T23:09:32.900984Z",
     "start_time": "2024-04-01T23:09:32.897295Z"
    }
   },
   "id": "12b709523ded1da6",
   "execution_count": 78
  },
  {
   "cell_type": "code",
   "outputs": [],
   "source": [
    "be_coins = []"
   ],
   "metadata": {
    "collapsed": false,
    "ExecuteTime": {
     "end_time": "2024-04-01T23:09:33.527380Z",
     "start_time": "2024-04-01T23:09:33.521086Z"
    }
   },
   "id": "2059a35e46ec5b9d",
   "execution_count": 79
  },
  {
   "cell_type": "code",
   "outputs": [],
   "source": [
    "import tqdm"
   ],
   "metadata": {
    "collapsed": false,
    "ExecuteTime": {
     "end_time": "2024-04-01T23:09:33.700072Z",
     "start_time": "2024-04-01T23:09:33.695554Z"
    }
   },
   "id": "50a4bd55205eead7",
   "execution_count": 80
  },
  {
   "cell_type": "code",
   "outputs": [
    {
     "ename": "KeyError",
     "evalue": "'data'",
     "output_type": "error",
     "traceback": [
      "\u001B[0;31m---------------------------------------------------------------------------\u001B[0m",
      "\u001B[0;31mKeyError\u001B[0m                                  Traceback (most recent call last)",
      "Cell \u001B[0;32mIn[81], line 6\u001B[0m\n\u001B[1;32m      1\u001B[0m \u001B[38;5;28;01mfor\u001B[39;00m i \u001B[38;5;129;01min\u001B[39;00m \u001B[38;5;28mrange\u001B[39m(\u001B[38;5;241m100\u001B[39m):\n\u001B[1;32m      2\u001B[0m     coins \u001B[38;5;241m=\u001B[39m requests\u001B[38;5;241m.\u001B[39mget(\n\u001B[1;32m      3\u001B[0m         \u001B[38;5;124mf\u001B[39m\u001B[38;5;124m'\u001B[39m\u001B[38;5;124mhttps://public-api.birdeye.so/public/tokenlist?sort_by=mc&sort_type=desc&offset=\u001B[39m\u001B[38;5;132;01m{\u001B[39;00mi\u001B[38;5;241m*\u001B[39m\u001B[38;5;241m50\u001B[39m\u001B[38;5;132;01m}\u001B[39;00m\u001B[38;5;124m&limit=50\u001B[39m\u001B[38;5;124m'\u001B[39m, \n\u001B[1;32m      4\u001B[0m         headers\u001B[38;5;241m=\u001B[39m{\u001B[38;5;124m\"\u001B[39m\u001B[38;5;124mx-chain\u001B[39m\u001B[38;5;124m\"\u001B[39m: \u001B[38;5;124m\"\u001B[39m\u001B[38;5;124msolana\u001B[39m\u001B[38;5;124m\"\u001B[39m, \u001B[38;5;124m\"\u001B[39m\u001B[38;5;124mX-API-KEY\u001B[39m\u001B[38;5;124m\"\u001B[39m: \u001B[38;5;124m\"\u001B[39m\u001B[38;5;124m9f0fc8d9eb0f42758e36ea3f71bec8d6\u001B[39m\u001B[38;5;124m\"\u001B[39m}\n\u001B[1;32m      5\u001B[0m     )\u001B[38;5;241m.\u001B[39mjson()\n\u001B[0;32m----> 6\u001B[0m     be_coins \u001B[38;5;241m+\u001B[39m\u001B[38;5;241m=\u001B[39m \u001B[43mcoins\u001B[49m\u001B[43m[\u001B[49m\u001B[38;5;124;43m'\u001B[39;49m\u001B[38;5;124;43mdata\u001B[39;49m\u001B[38;5;124;43m'\u001B[39;49m\u001B[43m]\u001B[49m[\u001B[38;5;124m'\u001B[39m\u001B[38;5;124mtokens\u001B[39m\u001B[38;5;124m'\u001B[39m]\n",
      "\u001B[0;31mKeyError\u001B[0m: 'data'"
     ]
    }
   ],
   "source": [
    "for i in range(100):\n",
    "    coins = requests.get(\n",
    "        f'https://public-api.birdeye.so/public/tokenlist?sort_by=mc&sort_type=desc&offset={i*50}&limit=50', \n",
    "        headers={\"x-chain\": \"solana\", \"X-API-KEY\": \"9f0fc8d9eb0f42758e36ea3f71bec8d6\"}\n",
    "    ).json()\n",
    "    be_coins += coins['data']['tokens']\n"
   ],
   "metadata": {
    "collapsed": false,
    "ExecuteTime": {
     "end_time": "2024-04-01T23:09:51.763615Z",
     "start_time": "2024-04-01T23:09:34.063119Z"
    }
   },
   "id": "bf708140ffd31575",
   "execution_count": 81
  },
  {
   "cell_type": "code",
   "outputs": [],
   "source": [
    "len(be_coins)"
   ],
   "metadata": {
    "collapsed": false
   },
   "id": "bd7f1ed24c1ecade",
   "execution_count": null
  },
  {
   "cell_type": "code",
   "outputs": [],
   "source": [
    "be_coins"
   ],
   "metadata": {
    "collapsed": false
   },
   "id": "fe21f058c854c888",
   "execution_count": null
  },
  {
   "cell_type": "code",
   "outputs": [],
   "source": [
    "result = []"
   ],
   "metadata": {
    "collapsed": false,
    "ExecuteTime": {
     "end_time": "2024-04-01T23:21:29.981029Z",
     "start_time": "2024-04-01T23:21:29.947834Z"
    }
   },
   "id": "cc030cf6e43a5529",
   "execution_count": 92
  },
  {
   "cell_type": "code",
   "outputs": [],
   "source": [
    "sym_set = set()"
   ],
   "metadata": {
    "collapsed": false,
    "ExecuteTime": {
     "end_time": "2024-04-01T23:21:30.166278Z",
     "start_time": "2024-04-01T23:21:30.159863Z"
    }
   },
   "id": "1cfdb5dcedd9d4f0",
   "execution_count": 93
  },
  {
   "cell_type": "code",
   "outputs": [],
   "source": [
    "x = 0\n",
    "for coin in be_coins:\n",
    "    \n",
    "    if coin['address'] in address_to_token and (symbol := address_to_token[coin['address']]['symbol']) not in sym_set:\n",
    "        result.append({\n",
    "            \"symbol\": symbol,\n",
    "            \"address\": coin['address'],\n",
    "        })\n",
    "        sym_set.add(symbol)\n",
    "        if len(result) >= 10:\n",
    "            break\n",
    "        "
   ],
   "metadata": {
    "collapsed": false,
    "ExecuteTime": {
     "end_time": "2024-04-01T23:21:33.092078Z",
     "start_time": "2024-04-01T23:21:33.059347Z"
    }
   },
   "id": "61587f2eeadc0f9",
   "execution_count": 94
  },
  {
   "cell_type": "code",
   "outputs": [],
   "source": [
    "import json\n",
    "with open(\"../data/coins-list.json\", \"w\") as f:\n",
    "    json.dump(result, f)"
   ],
   "metadata": {
    "collapsed": false,
    "ExecuteTime": {
     "end_time": "2024-04-01T23:21:33.753193Z",
     "start_time": "2024-04-01T23:21:33.742004Z"
    }
   },
   "id": "8d990d2c8358ea3d",
   "execution_count": 95
  },
  {
   "cell_type": "code",
   "outputs": [],
   "source": [
    "result"
   ],
   "metadata": {
    "collapsed": false
   },
   "id": "147c80c16a0dcf40",
   "execution_count": null
  },
  {
   "cell_type": "code",
   "outputs": [],
   "source": [],
   "metadata": {
    "collapsed": false
   },
   "id": "686cccb7f5df63d"
  }
 ],
 "metadata": {
  "kernelspec": {
   "display_name": "Python 3",
   "language": "python",
   "name": "python3"
  },
  "language_info": {
   "codemirror_mode": {
    "name": "ipython",
    "version": 3
   },
   "file_extension": ".py",
   "mimetype": "text/x-python",
   "name": "python",
   "nbconvert_exporter": "python",
   "pygments_lexer": "ipython3",
   "version": "3.11.8"
  }
 },
 "nbformat": 4,
 "nbformat_minor": 5
}
