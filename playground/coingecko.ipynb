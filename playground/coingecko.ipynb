{
 "cells": [
  {
   "cell_type": "code",
   "execution_count": 1,
   "id": "initial_id",
   "metadata": {
    "collapsed": true,
    "ExecuteTime": {
     "end_time": "2024-03-31T20:16:48.388179Z",
     "start_time": "2024-03-31T20:16:48.332125Z"
    }
   },
   "outputs": [],
   "source": [
    "import requests\n",
    "import os \n",
    "import time \n",
    "\n",
    "os.environ['COINMARKETCAP_API_KEY'] = 'CG-mETiggwB5XXC5scj2tZuvKRN'\n",
    "\n",
    "BASE_URL = \"https://api.coingecko.com/api/v3/\""
   ]
  },
  {
   "cell_type": "code",
   "execution_count": 2,
   "id": "5679ff2b",
   "metadata": {
    "ExecuteTime": {
     "end_time": "2024-03-31T20:16:50.566952Z",
     "start_time": "2024-03-31T20:16:50.563991Z"
    }
   },
   "outputs": [],
   "source": [
    "url = BASE_URL + \"coins/markets?vs_currency=usd&order=market_cap_desc\"\n",
    "info_url = BASE_URL + \"/coins/\"\n",
    "headers = {\"x-cg-api-key\": \"CG-mETiggwB5XXC5scj2tZuvKRN\"}"
   ]
  },
  {
   "cell_type": "code",
   "execution_count": 3,
   "id": "05f829f4",
   "metadata": {
    "ExecuteTime": {
     "end_time": "2024-03-31T20:16:54.182029Z",
     "start_time": "2024-03-31T20:16:52.612845Z"
    }
   },
   "outputs": [],
   "source": [
    "coins = []\n",
    "\n",
    "for i in range(3):\n",
    "    response = requests.get(f\"{url}/per_page=100&page={i}\", headers=headers)\n",
    "    coins_batch = response.json()\n",
    "    coins += coins_batch"
   ]
  },
  {
   "cell_type": "code",
   "outputs": [
    {
     "data": {
      "text/plain": "300"
     },
     "execution_count": 4,
     "metadata": {},
     "output_type": "execute_result"
    }
   ],
   "source": [
    "len(coins)"
   ],
   "metadata": {
    "collapsed": false,
    "ExecuteTime": {
     "end_time": "2024-03-31T20:17:06.082371Z",
     "start_time": "2024-03-31T20:17:06.075438Z"
    }
   },
   "id": "78bef79b2f933f00",
   "execution_count": 4
  },
  {
   "cell_type": "code",
   "execution_count": 50,
   "id": "e1cb221f",
   "metadata": {},
   "outputs": [],
   "source": [
    "# coin_to_description = {}"
   ]
  },
  {
   "cell_type": "code",
   "execution_count": 69,
   "id": "c0f062ed",
   "metadata": {},
   "outputs": [],
   "source": [
    "response = requests.get(f\"{info_url}/{coins[0]['id']}?localization=false&tickers=false&market_data=false&community_data=false&developer_data=false\", headers=headers)"
   ]
  },
  {
   "cell_type": "code",
   "execution_count": 70,
   "id": "3db73f1e",
   "metadata": {},
   "outputs": [
    {
     "data": {
      "text/plain": [
       "{'id': 'bitcoin',\n",
       " 'symbol': 'btc',\n",
       " 'name': 'Bitcoin',\n",
       " 'web_slug': 'bitcoin',\n",
       " 'asset_platform_id': None,\n",
       " 'platforms': {'': ''},\n",
       " 'detail_platforms': {'': {'decimal_place': None, 'contract_address': ''}},\n",
       " 'block_time_in_minutes': 10,\n",
       " 'hashing_algorithm': 'SHA-256',\n",
       " 'categories': ['Proof of Work (PoW)',\n",
       "  'FTX Holdings',\n",
       "  'Layer 1 (L1)',\n",
       "  'Cryptocurrency'],\n",
       " 'preview_listing': False,\n",
       " 'public_notice': None,\n",
       " 'additional_notices': [],\n",
       " 'description': {'en': 'Bitcoin is the first successful internet money based on peer-to-peer technology; whereby no central bank or authority is involved in the transaction and production of the Bitcoin currency. It was created by an anonymous individual/group under the name, Satoshi Nakamoto. The source code is available publicly as an open source project, anybody can look at it and be part of the developmental process.\\r\\n\\r\\nBitcoin is changing the way we see money as we speak. The idea was to produce a means of exchange, independent of any central authority, that could be transferred electronically in a secure, verifiable and immutable way. It is a decentralized peer-to-peer internet currency making mobile payment easy, very low transaction fees, protects your identity, and it works anywhere all the time with no central authority and banks.\\r\\n\\r\\nBitcoin is designed to have only 21 million BTC ever created, thus making it a deflationary currency. Bitcoin uses the <a href=\"https://www.coingecko.com/en?hashing_algorithm=SHA-256\">SHA-256</a> hashing algorithm with an average transaction confirmation time of 10 minutes. Miners today are mining Bitcoin using ASIC chip dedicated to only mining Bitcoin, and the hash rate has shot up to peta hashes.\\r\\n\\r\\nBeing the first successful online cryptography currency, Bitcoin has inspired other alternative currencies such as <a href=\"https://www.coingecko.com/en/coins/litecoin\">Litecoin</a>, <a href=\"https://www.coingecko.com/en/coins/peercoin\">Peercoin</a>, <a href=\"https://www.coingecko.com/en/coins/primecoin\">Primecoin</a>, and so on.\\r\\n\\r\\nThe cryptocurrency then took off with the innovation of the turing-complete smart contract by <a href=\"https://www.coingecko.com/en/coins/ethereum\">Ethereum</a> which led to the development of other amazing projects such as <a href=\"https://www.coingecko.com/en/coins/eos\">EOS</a>, <a href=\"https://www.coingecko.com/en/coins/tron\">Tron</a>, and even crypto-collectibles such as <a href=\"https://www.coingecko.com/buzz/ethereum-still-king-dapps-cryptokitties-need-1-billion-on-eos\">CryptoKitties</a>.'},\n",
       " 'links': {'homepage': ['http://www.bitcoin.org', '', ''],\n",
       "  'whitepaper': 'https://bitcoin.org/bitcoin.pdf',\n",
       "  'blockchain_site': ['https://mempool.space/',\n",
       "   'https://blockchair.com/bitcoin/',\n",
       "   'https://btc.com/',\n",
       "   'https://btc.tokenview.io/',\n",
       "   'https://www.oklink.com/btc',\n",
       "   'https://3xpl.com/bitcoin',\n",
       "   '',\n",
       "   '',\n",
       "   '',\n",
       "   ''],\n",
       "  'official_forum_url': ['https://bitcointalk.org/', '', ''],\n",
       "  'chat_url': ['', '', ''],\n",
       "  'announcement_url': ['', ''],\n",
       "  'twitter_screen_name': 'bitcoin',\n",
       "  'facebook_username': 'bitcoins',\n",
       "  'bitcointalk_thread_identifier': None,\n",
       "  'telegram_channel_identifier': '',\n",
       "  'subreddit_url': 'https://www.reddit.com/r/Bitcoin/',\n",
       "  'repos_url': {'github': ['https://github.com/bitcoin/bitcoin',\n",
       "    'https://github.com/bitcoin/bips'],\n",
       "   'bitbucket': []}},\n",
       " 'image': {'thumb': 'https://assets.coingecko.com/coins/images/1/thumb/bitcoin.png?1696501400',\n",
       "  'small': 'https://assets.coingecko.com/coins/images/1/small/bitcoin.png?1696501400',\n",
       "  'large': 'https://assets.coingecko.com/coins/images/1/large/bitcoin.png?1696501400'},\n",
       " 'country_origin': '',\n",
       " 'genesis_date': '2009-01-03',\n",
       " 'sentiment_votes_up_percentage': 80.49,\n",
       " 'sentiment_votes_down_percentage': 19.51,\n",
       " 'watchlist_portfolio_users': 1521811,\n",
       " 'market_cap_rank': 1,\n",
       " 'status_updates': [],\n",
       " 'last_updated': '2024-03-21T23:54:37.160Z'}"
      ]
     },
     "execution_count": 70,
     "metadata": {},
     "output_type": "execute_result"
    }
   ],
   "source": [
    "response.json()"
   ]
  },
  {
   "cell_type": "code",
   "execution_count": 103,
   "id": "a7e61b87",
   "metadata": {},
   "outputs": [
    {
     "name": "stdout",
     "output_type": "stream",
     "text": [
      "ase\n"
     ]
    }
   ],
   "source": []
  },
  {
   "cell_type": "code",
   "execution_count": 108,
   "id": "95048713",
   "metadata": {},
   "outputs": [
    {
     "name": "stdout",
     "output_type": "stream",
     "text": [
      "{'id': 'quant-network', 'symbol': 'qnt', 'name': 'Quant', 'web_slug': 'quant', 'asset_platform_id': 'ethereum', 'platforms': {'ethereum': '0x4a220e6096b25eadb88358cb44068a3248254675', 'energi': '0x462b35452e552a66b519ecf70aedb1835d434965'}, 'detail_platforms': {'ethereum': {'decimal_place': 18, 'contract_address': '0x4a220e6096b25eadb88358cb44068a3248254675'}, 'energi': {'decimal_place': 18, 'contract_address': '0x462b35452e552a66b519ecf70aedb1835d434965'}}, 'block_time_in_minutes': 0, 'hashing_algorithm': 'Ethash', 'categories': ['Ethereum Ecosystem', 'Protocol'], 'preview_listing': False, 'public_notice': None, 'additional_notices': [], 'description': {'en': \"London-based Quant Network is set to revolutionise blockchain technology with the development of their blockchain operating system Overledger. The experienced team are determined to fulfil the original vision of the internet by creating an open trusted network for people, machines, and data to operate securely and safely.\\r\\n\\r\\nOverledger -the first interoperable blockchain operating system that facilitates internet-scale development of decentralised, multi-chain applications. Overledger has the ability to unlock and distribute value and applications across current and future blockchains. It is an agnostic platform that connects the world's networks to blockchains and ensures you're not limited to any single a vendor or technology. Overledger is the only platform that facilitates the development of internet-scales development of decentralised, multi-chain applications.\"}, 'links': {'homepage': ['https://www.quant.network', '', ''], 'whitepaper': 'http://files.quant.network/files.quant.network/Quant_Overledger_Whitepaper_v0.1.pdf', 'blockchain_site': ['https://etherscan.io/token/0x4a220e6096b25eadb88358cb44068a3248254675', 'https://ethplorer.io/address/0x4a220e6096b25eadb88358cb44068a3248254675', 'https://explorer.energi.network/token/0x462b35452e552a66b519ecf70aedb1835d434965', '', '', '', '', '', '', ''], 'official_forum_url': ['', '', ''], 'chat_url': ['https://t.me/QuantOverledger', '', ''], 'announcement_url': ['https://quantnetwork.medium.com/', ''], 'twitter_screen_name': 'quant_network', 'facebook_username': 'quantnetwork', 'bitcointalk_thread_identifier': 3200795, 'telegram_channel_identifier': 'quantnetworkannouncements', 'subreddit_url': 'https://www.reddit.com/r/QuantNetwork/', 'repos_url': {'github': ['https://github.com/quantnetwork/Overledger-Interfaces', 'https://github.com/quantnetwork/eth-contract-metadata'], 'bitbucket': []}}, 'image': {'thumb': 'https://assets.coingecko.com/coins/images/3370/thumb/5ZOu7brX_400x400.jpg?1696504070', 'small': 'https://assets.coingecko.com/coins/images/3370/small/5ZOu7brX_400x400.jpg?1696504070', 'large': 'https://assets.coingecko.com/coins/images/3370/large/5ZOu7brX_400x400.jpg?1696504070'}, 'country_origin': 'GB', 'genesis_date': '2018-06-25', 'contract_address': '0x4a220e6096b25eadb88358cb44068a3248254675', 'sentiment_votes_up_percentage': 86.11, 'sentiment_votes_down_percentage': 13.89, 'ico_data': {'ico_start_date': '2018-04-02T00:00:00.000Z', 'ico_end_date': '2018-04-30T00:00:00.000Z', 'short_desc': 'The first Blockchain operating system that facilitates the development of multi-chain applications.', 'description': None, 'links': {}, 'softcap_currency': 'ETH', 'hardcap_currency': 'ETH', 'total_raised_currency': 'USD', 'softcap_amount': '6500.0', 'hardcap_amount': '57000.0', 'total_raised': '11000000.0', 'quote_pre_sale_currency': 'ETH', 'base_pre_sale_amount': '687.0', 'quote_pre_sale_amount': '1.0', 'quote_public_sale_currency': 'ETH', 'base_public_sale_amount': 430.0, 'quote_public_sale_amount': 1.0, 'accepting_currencies': 'ETH', 'country_origin': 'GB', 'pre_sale_start_date': '2018-03-19T00:00:00.000Z', 'pre_sale_end_date': '2018-04-01T00:00:00.000Z', 'whitelist_url': '', 'whitelist_start_date': None, 'whitelist_end_date': None, 'bounty_detail_url': '', 'amount_for_sale': '31000000.0', 'kyc_required': True, 'whitelist_available': None, 'pre_sale_available': True, 'pre_sale_ended': False}, 'watchlist_portfolio_users': 111317, 'market_cap_rank': 67, 'status_updates': [], 'last_updated': '2024-03-22T00:59:45.519Z'}\n",
      "{'id': 'jupiter-exchange-solana', 'symbol': 'jup', 'name': 'Jupiter', 'web_slug': 'jupiter', 'asset_platform_id': 'solana', 'platforms': {'solana': 'JUPyiwrYJFskUPiHa7hkeR8VUtAeFoSYbKedZNsDvCN'}, 'detail_platforms': {'solana': {'decimal_place': 6, 'contract_address': 'JUPyiwrYJFskUPiHa7hkeR8VUtAeFoSYbKedZNsDvCN'}}, 'block_time_in_minutes': 0, 'hashing_algorithm': None, 'categories': ['Decentralized Finance (DeFi)', 'Decentralized Exchange (DEX)', 'Solana Ecosystem'], 'preview_listing': False, 'public_notice': None, 'additional_notices': [], 'description': {'en': ''}, 'links': {'homepage': ['https://jup.ag/', '', ''], 'whitepaper': '', 'blockchain_site': ['https://solscan.io/token/JUPyiwrYJFskUPiHa7hkeR8VUtAeFoSYbKedZNsDvCN', '', '', '', '', '', '', '', '', ''], 'official_forum_url': ['', '', ''], 'chat_url': ['https://discord.com/invite/jup', 'https://station.jup.ag/blog/', ''], 'announcement_url': ['', ''], 'twitter_screen_name': 'JupiterExchange', 'facebook_username': '', 'bitcointalk_thread_identifier': None, 'telegram_channel_identifier': '', 'subreddit_url': 'https://www.reddit.com', 'repos_url': {'github': ['https://github.com/jup-ag'], 'bitbucket': []}}, 'image': {'thumb': 'https://assets.coingecko.com/coins/images/34188/thumb/jup.png?1704266489', 'small': 'https://assets.coingecko.com/coins/images/34188/small/jup.png?1704266489', 'large': 'https://assets.coingecko.com/coins/images/34188/large/jup.png?1704266489'}, 'country_origin': '', 'genesis_date': None, 'contract_address': 'JUPyiwrYJFskUPiHa7hkeR8VUtAeFoSYbKedZNsDvCN', 'sentiment_votes_up_percentage': 81.54, 'sentiment_votes_down_percentage': 18.46, 'watchlist_portfolio_users': 61338, 'market_cap_rank': 69, 'status_updates': [], 'last_updated': '2024-03-22T01:00:07.764Z'}\n",
      "{'id': 'conflux-token', 'symbol': 'cfx', 'name': 'Conflux', 'web_slug': 'conflux', 'asset_platform_id': None, 'platforms': {'': ''}, 'detail_platforms': {'': {'decimal_place': None, 'contract_address': ''}}, 'block_time_in_minutes': 0, 'hashing_algorithm': None, 'categories': ['Proof of Work (PoW)', 'DWF Labs Portfolio'], 'preview_listing': False, 'public_notice': None, 'additional_notices': [], 'description': {'en': \"What is Conflux \\r\\nConflux is a permissionless Layer 1 blockchain connecting decentralized economies across borders and protocols. Recently migrated to hybrid PoW/PoS consensus, Conflux provides a fast, secure, and scalable blockchain environment with zero congestion, low fees, and improved network security.\\r\\nAs the only regulatory compliant public blockchain in China, Conflux provides a unique advantage for projects building and expanding into Asia. In the region, Conflux has collaborated with global brands and government entities on blockchain and metaverse initiatives, including the city of Shanghai, McDonald's China, and Oreos. \\r\\nTo learn more about Conflux, visit confluxnetwork.org/\\r\\n \\r\\n\\r\\nWhat is the Conflux (CFX) Token? \\r\\nCFX is the native token for the Conflux Network. It is a hard-capped scarce asset used to pay fees, and secure the network through staking. Each CFX contains 10^18 Drip. Transactions on Conflux are handled similarly to those on the Ethereum network, with CFX playing a similar role as ETH. Users submit a contract with a gas limit and a gas price; the latter is denominated in CFX.\\r\\nUsers can interact with Conflux Network ecosystem applications through wallets. Users can use CFX to participate in governance votes, stake their tokens to earn network interest, or pay for the network's storage and transaction fees.\\r\\n\\r\\n\\r\\nWhere can I buy the Conflux token (CFX)?\\r\\nCFX is supported across leading exchanges such as Binance, KuCoin, OKEX, Gate, and MEXC\\r\\n\\r\\n\\r\\nWhere can I stake the Conflux token (CFX)? \\r\\nCFX can be staked at any of the Staking Pools operated by the Conflux community. For the latest information please view the Conflux Forum\"}, 'links': {'homepage': ['https://confluxnetwork.org/', '', ''], 'whitepaper': 'https://confluxnetwork.org/files/Conflux_Economic_Paper_20201230.pdf', 'blockchain_site': ['https://www.confluxscan.io/', 'https://bscscan.com/token/0x045c4324039da91c52c55df5d785385aab073dcf', '', '', '', '', '', '', '', ''], 'official_forum_url': ['', '', ''], 'chat_url': ['https://discord.com/invite/conflux-network-707952293412339843', '', ''], 'announcement_url': ['https://confluxnetwork.medium.com/', 'https://developer.confluxnetwork.org/guides/en/guides_list'], 'twitter_screen_name': 'Conflux_Network', 'facebook_username': '', 'bitcointalk_thread_identifier': None, 'telegram_channel_identifier': 'Conflux_English', 'subreddit_url': 'https://www.reddit.com/r/Conflux_Network/', 'repos_url': {'github': ['https://github.com/Conflux-Chain/'], 'bitbucket': []}}, 'image': {'thumb': 'https://assets.coingecko.com/coins/images/13079/thumb/3vuYMbjN.png?1696512867', 'small': 'https://assets.coingecko.com/coins/images/13079/small/3vuYMbjN.png?1696512867', 'large': 'https://assets.coingecko.com/coins/images/13079/large/3vuYMbjN.png?1696512867'}, 'country_origin': '', 'genesis_date': None, 'sentiment_votes_up_percentage': 82.14, 'sentiment_votes_down_percentage': 17.86, 'watchlist_portfolio_users': 34963, 'market_cap_rank': 68, 'status_updates': [], 'last_updated': '2024-03-22T01:00:15.383Z'}\n",
      "{'id': 'elrond-erd-2', 'symbol': 'egld', 'name': 'MultiversX', 'web_slug': 'multiversx', 'asset_platform_id': None, 'platforms': {'': ''}, 'detail_platforms': {'': {'decimal_place': None, 'contract_address': ''}}, 'block_time_in_minutes': 0, 'hashing_algorithm': None, 'categories': ['Proof of Stake (PoS)', 'DWF Labs Portfolio', 'Binance Launchpad', 'Layer 1 (L1)', 'MultiversX Ecosystem', 'Protocol', 'Smart Contract Platform'], 'preview_listing': False, 'public_notice': None, 'additional_notices': [], 'description': {'en': 'What is MultiversX \\r\\n\\r\\nMultiversX is a blockchain protocol that offers true horizontal scalability by using all aspects of sharding (Network, Transaction & State). The project describes itself as a technology ecosystem for the new internet, which includes decentralized finance, real world assets and the Metaverse. Its smart contracts execution platform is reportedly capable of up to 100,000 transactions per second, 6-second latency and a $0.002 transaction cost. MultiversX is governed and secured through the EGLD token. EGLD, or Electronic Gold, is MultiversX\\'s native token. It acts as a store of value currency to pay for network usage. The coin also serves as a medium of exchange between platform users and validators. Users pay transaction fees in EGLD and validators participate in the consensus process. EGLD allows developers to deploy smart contracts, protocols, and dApps on the platform. It empowers participants to perform any network action. Through staking and validation rewards, as well as transaction fees, EGLD manages the MultiversX network. Plus, EGLD is endowed with the functionality of a governance token, so its holders can vote on network decisions. \\r\\n\\r\\nHow does MultiversX Work \\r\\n\\r\\nAccording to the MultiversX crypto team, the project implements three types of parallelization: state, transactions, and network, using the parallel processing method to speed up the time and increase the number of transactions. MultiversX uses Adaptive State Sharding to scale while sharing infrastructure to support a growing number of applications/transactions on the ledger. A variation of the traditional PoS operational protocol guarantees the connection to the platform of all sections of the network, separated during sharding. Hence, the integrated environment is involved in the development of dApps, which are imitations of products and services. MultiversX combines three sharding methods to create its own unique adaptive one. It divides the network into four shards: three being execution shards that process transactions, validating 30,000 transactions per second, and Metachain is the fourth shard that coordinates and completes transactions. Sharding types include: State sharding where the history of the network, or state, is distributed across different sections of the network, or shards. Segments have their own ledger, nodes store the state of each segment; Transaction sharding where transactions are mapped to segments and processed, segments process transactions in parallel and nodes capture the state of the entire network; Network sharding where the nodes are grouped into segments and then processed. Network slicing contributes to optimizing communications. \\r\\n\\r\\nWhat makes MultiversX Unique \\r\\n\\r\\nMultiversX describes itself as a blockchain platform for the new internet economy, decentralized applications and enterprise use. Its main selling point is its high scalability, stating that it is the first blockchain network in which state, network and transaction sharding have all been implemented. According to its economics paper, it seeks to build up its ecosystem and establish EGLD as a store-of-value asset. To achieve this goal, the network runs on 3,200 validator nodes split into four shards: three execution shards, capable of up to 100,000 transactions per second in total, and one coordination shard, the \"Metachain.\" MultiversX\\'s adaptive state sharding architecture completely shards state, transactions and network. It can scale by adding additional shards when the throughput demand requires. It was tested to run 263,000 TPS in a public environment with 1,500 nodes from 29 countries grouped in 50 shards. To increase adoption, the blockchain also supports developers building on the platform, allowing them to earn 30% of the smart contract fees as royalties.\\r\\n'}, 'links': {'homepage': ['https://multiversx.com/', 'https://multiversx.com/blog', ''], 'whitepaper': 'https://files.multiversx.com/multiversx-whitepaper.pdf', 'blockchain_site': ['https://explorer.multiversx.com', 'https://www.elrondscan.com/', 'https://elrondmonitor.com/', 'https://elrond.bigdipper.live/', '', '', '', '', '', ''], 'official_forum_url': ['', '', ''], 'chat_url': ['', '', ''], 'announcement_url': ['', ''], 'twitter_screen_name': 'MultiversX', 'facebook_username': '', 'bitcointalk_thread_identifier': None, 'telegram_channel_identifier': 'MultiversX', 'subreddit_url': 'https://www.reddit.com/r/elrondnetwork/', 'repos_url': {'github': ['https://github.com/multiversx'], 'bitbucket': []}}, 'image': {'thumb': 'https://assets.coingecko.com/coins/images/12335/thumb/egld-token-logo.png?1696512162', 'small': 'https://assets.coingecko.com/coins/images/12335/small/egld-token-logo.png?1696512162', 'large': 'https://assets.coingecko.com/coins/images/12335/large/egld-token-logo.png?1696512162'}, 'country_origin': '', 'genesis_date': None, 'sentiment_votes_up_percentage': 90.48, 'sentiment_votes_down_percentage': 9.52, 'watchlist_portfolio_users': 144244, 'market_cap_rank': 70, 'status_updates': [], 'last_updated': '2024-03-22T01:00:18.805Z'}\n",
      "{'id': 'dydx-chain', 'symbol': 'dydx', 'name': 'dYdX', 'web_slug': 'dydx-chain', 'asset_platform_id': 'cosmos', 'platforms': {'cosmos': 'ibc/831F0B1BBB1D08A2B75311892876D71565478C532967545476DF4C2D7492E48C'}, 'detail_platforms': {'cosmos': {'decimal_place': 0, 'contract_address': 'ibc/831F0B1BBB1D08A2B75311892876D71565478C532967545476DF4C2D7492E48C'}}, 'block_time_in_minutes': 0, 'hashing_algorithm': None, 'categories': ['Cosmos Ecosystem', 'Decentralized Exchange (DEX)'], 'preview_listing': False, 'public_notice': None, 'additional_notices': [], 'description': {'en': ''}, 'links': {'homepage': ['https://dydx.trade/', 'https://www.dydx.foundation/', ''], 'whitepaper': '', 'blockchain_site': ['https://www.mintscan.io/dydx', '', '', '', '', '', '', '', '', ''], 'official_forum_url': ['', 'https://www.dydx.foundation/blog', 'https://dydx.forum/'], 'chat_url': ['', '', 'https://discord.com/invite/dydx'], 'announcement_url': ['', ''], 'twitter_screen_name': 'dydxfoundation', 'facebook_username': '', 'bitcointalk_thread_identifier': None, 'telegram_channel_identifier': '', 'subreddit_url': 'https://www.reddit.com', 'repos_url': {'github': ['https://github.com/dydxprotocol'], 'bitbucket': []}}, 'image': {'thumb': 'https://assets.coingecko.com/coins/images/32594/thumb/dydx.png?1698673495', 'small': 'https://assets.coingecko.com/coins/images/32594/small/dydx.png?1698673495', 'large': 'https://assets.coingecko.com/coins/images/32594/large/dydx.png?1698673495'}, 'country_origin': 'US', 'genesis_date': None, 'contract_address': 'ibc/831F0B1BBB1D08A2B75311892876D71565478C532967545476DF4C2D7492E48C', 'sentiment_votes_up_percentage': 50.0, 'sentiment_votes_down_percentage': 50.0, 'watchlist_portfolio_users': 13681, 'market_cap_rank': 71, 'status_updates': [], 'last_updated': '2024-03-22T00:59:54.468Z'}\n",
      "{'id': 'bitcoin-cash-sv', 'symbol': 'bsv', 'name': 'Bitcoin SV', 'web_slug': 'bitcoin-sv', 'asset_platform_id': None, 'platforms': {'': ''}, 'detail_platforms': {'': {'decimal_place': None, 'contract_address': ''}}, 'block_time_in_minutes': 0, 'hashing_algorithm': 'SHA-256', 'categories': ['Proof of Work (PoW)', 'Bitcoin Fork'], 'preview_listing': False, 'public_notice': None, 'additional_notices': [], 'description': {'en': 'Bitcoin SV (BSV) emerged following a hard fork of the Bitcoin Cash (BCH) blockchain in 2018, which had in turn forked from the BTC blockchain a year earlier. The goal of Bitcoin SV is to fulfil the original vision of the Bitcoin protocol and design as described in Satoshi Nakamoto’s white paper, early Bitcoin client software and known Satoshi writings. BSV aims to offer scalability and stability in line with the original description of Bitcoin as a peer-to-peer electronic cash system, as well as deliver a distributed data network that can support enterprise-level advanced blockchain applications. To this end, it has removed artificial block size limits and re-enabled Script commands and other technical capabilities which had been historically disabled or restricted by the protocol developers of the BTC blockchain. This allows the network to process tens of thousands of transactions per second while maintaining extremely low transaction fees for micropayments, in addition to offering advanced capabilities such as tokens, smart contracts, computation and other data use cases. The BSV network is unique in its capacity for unbounded on-chain scaling while also being more aligned with the original design of Bitcoin than any other blockchain.'}, 'links': {'homepage': ['https://bitcoinsv.com/', '', ''], 'whitepaper': '', 'blockchain_site': ['http://whatsonchain.com', '', '', '', '', '', '', '', '', ''], 'official_forum_url': ['', '', ''], 'chat_url': ['', '', ''], 'announcement_url': ['', ''], 'twitter_screen_name': '', 'facebook_username': '', 'bitcointalk_thread_identifier': None, 'telegram_channel_identifier': '', 'subreddit_url': 'https://www.reddit.com', 'repos_url': {'github': ['https://github.com/bitcoin-sv/bitcoin-sv'], 'bitbucket': []}}, 'image': {'thumb': 'https://assets.coingecko.com/coins/images/6799/thumb/BSV.png?1696507128', 'small': 'https://assets.coingecko.com/coins/images/6799/small/BSV.png?1696507128', 'large': 'https://assets.coingecko.com/coins/images/6799/large/BSV.png?1696507128'}, 'country_origin': '', 'genesis_date': None, 'sentiment_votes_up_percentage': 55.56, 'sentiment_votes_down_percentage': 44.44, 'watchlist_portfolio_users': 24200, 'market_cap_rank': 72, 'status_updates': [], 'last_updated': '2024-03-22T01:00:11.120Z'}\n",
      "{'id': 'starknet', 'symbol': 'strk', 'name': 'Starknet', 'web_slug': 'starknet', 'asset_platform_id': 'ethereum', 'platforms': {'ethereum': '0xca14007eff0db1f8135f4c25b34de49ab0d42766', 'starknet': '0x4718f5a0fc34cc1af16a1cdee98ffb20c31f5cd61d6ab07201858f4287c938d'}, 'detail_platforms': {'ethereum': {'decimal_place': 18, 'contract_address': '0xca14007eff0db1f8135f4c25b34de49ab0d42766'}, 'starknet': {'decimal_place': 18, 'contract_address': '0x4718f5a0fc34cc1af16a1cdee98ffb20c31f5cd61d6ab07201858f4287c938d'}}, 'block_time_in_minutes': 0, 'hashing_algorithm': None, 'categories': ['Layer 2 (L2)', 'Rollup', 'Multicoin Capital Portfolio', 'Coinbase Ventures Portfolio', 'Paradigm Portfolio', 'Starknet Ecosystem', 'Ethereum Ecosystem'], 'preview_listing': False, 'public_notice': None, 'additional_notices': [], 'description': {'en': 'StarkNet is a permissionless decentralized Layer 2 (L2) validity rollup, built to allow Ethereum to scale via cryptographic protocols called STARKs, without compromising Ethereum’s core principles of decentralization, transparency, inclusivity and security. The StarkNet Token is needed to operate the ecosystem, maintain and secure it, decide on its values and strategic goals, and direct its evolution. This token will be required for (i) governance, (ii) payment of transaction fees on StarkNet, and (iii) participation in StarkNet’s consensus mechanism.'}, 'links': {'homepage': ['https://starknet.io/', '', ''], 'whitepaper': '', 'blockchain_site': ['https://starkscan.co/', 'https://voyager.online/', 'https://etherscan.io/token/0xca14007eff0db1f8135f4c25b34de49ab0d42766', 'https://ethplorer.io/address/0xca14007eff0db1f8135f4c25b34de49ab0d42766', 'https://starkscan.co/token/0x04718f5a0fc34cc1af16a1cdee98ffb20c31f5cd61d6ab07201858f4287c938d', 'https://voyager.online/token/0x04718f5a0fc34cc1af16a1cdee98ffb20c31f5cd61d6ab07201858f4287c938d', 'https://starkscan.co/token/0x4718f5a0fc34cc1af16a1cdee98ffb20c31f5cd61d6ab07201858f4287c938d', 'https://voyager.online/token/0x4718f5a0fc34cc1af16a1cdee98ffb20c31f5cd61d6ab07201858f4287c938d', '', ''], 'official_forum_url': ['', '', ''], 'chat_url': ['http://starknet.io/discord', 'https://starkware.medium.com/', ''], 'announcement_url': ['', ''], 'twitter_screen_name': 'Starknet', 'facebook_username': '', 'bitcointalk_thread_identifier': None, 'telegram_channel_identifier': '', 'subreddit_url': 'https://www.reddit.com', 'repos_url': {'github': ['https://github.com/starkware-libs/starknet-specs'], 'bitbucket': []}}, 'image': {'thumb': 'https://assets.coingecko.com/coins/images/26433/thumb/starknet.png?1696525507', 'small': 'https://assets.coingecko.com/coins/images/26433/small/starknet.png?1696525507', 'large': 'https://assets.coingecko.com/coins/images/26433/large/starknet.png?1696525507'}, 'country_origin': '', 'genesis_date': None, 'contract_address': '0xca14007eff0db1f8135f4c25b34de49ab0d42766', 'sentiment_votes_up_percentage': 75.0, 'sentiment_votes_down_percentage': 25.0, 'watchlist_portfolio_users': 39921, 'market_cap_rank': 73, 'status_updates': [], 'last_updated': '2024-03-22T01:02:06.598Z'}\n",
      "{'id': 'bonk', 'symbol': 'bonk', 'name': 'Bonk', 'web_slug': 'bonk', 'asset_platform_id': 'solana', 'platforms': {'solana': 'DezXAZ8z7PnrnRJjz3wXBoRgixCa6xjnB7YaB1pPB263', 'neon-evm': '0xd4b6520f7fb78e1ee75639f3376c581a71bcdb0e', 'ethereum': '0x1151cb3d861920e07a38e03eead12c32178567f6', 'aptos': '0x2a90fae71afc7460ee42b20ee49a9c9b29272905ad71fef92fbd8b3905a24b56', 'arbitrum-one': '0x09199d9a5f4448d0848e4395d065e1ad9c4a1f74', 'polygon-pos': '0xe5b49820e5a1063f6f4ddf851327b5e8b2301048', 'binance-smart-chain': '0xa697e272a73744b343528c3bc4702f2565b2f422'}, 'detail_platforms': {'solana': {'decimal_place': 5, 'contract_address': 'DezXAZ8z7PnrnRJjz3wXBoRgixCa6xjnB7YaB1pPB263'}, 'neon-evm': {'decimal_place': 5, 'contract_address': '0xd4b6520f7fb78e1ee75639f3376c581a71bcdb0e'}, 'ethereum': {'decimal_place': 5, 'contract_address': '0x1151cb3d861920e07a38e03eead12c32178567f6'}, 'aptos': {'decimal_place': 5, 'contract_address': '0x2a90fae71afc7460ee42b20ee49a9c9b29272905ad71fef92fbd8b3905a24b56'}, 'arbitrum-one': {'decimal_place': 5, 'contract_address': '0x09199d9a5f4448d0848e4395d065e1ad9c4a1f74'}, 'polygon-pos': {'decimal_place': 5, 'contract_address': '0xe5b49820e5a1063f6f4ddf851327b5e8b2301048'}, 'binance-smart-chain': {'decimal_place': 5, 'contract_address': '0xa697e272a73744b343528c3bc4702f2565b2f422'}}, 'block_time_in_minutes': 0, 'hashing_algorithm': None, 'categories': ['Aptos Ecosystem', 'Neon Ecosystem', 'Solana Meme Coins', 'Dog-Themed Coins', 'Polygon Ecosystem', 'Ethereum Ecosystem', 'BNB Chain Ecosystem', 'Arbitrum Ecosystem', 'Meme', 'Solana Ecosystem'], 'preview_listing': False, 'public_notice': None, 'additional_notices': [], 'description': {'en': 'Bonk is the first Solana dog coin for the people, by the people with 50% of the total supply airdropped to the Solana community. The Bonk contributors were tired of toxic “Alameda” tokenomics and wanted to make a fun memecoin where everyone gets a fair shot.\\xa0'}, 'links': {'homepage': ['https://www.bonkcoin.com/', '', ''], 'whitepaper': '', 'blockchain_site': ['https://solscan.io/token/DezXAZ8z7PnrnRJjz3wXBoRgixCa6xjnB7YaB1pPB263', 'https://arbiscan.io/token/0x09199d9A5F4448D0848e4395D065e1ad9c4a1F74', 'https://tracemove.io/coin/0x2a90fae71afc7460ee42b20ee49a9c9b29272905ad71fef92fbd8b3905a24b56', 'https://bscscan.com/token/0xa697e272a73744b343528c3bc4702f2565b2f422', 'https://etherscan.io/token/0x1151cb3d861920e07a38e03eead12c32178567f6', 'https://ethplorer.io/address/0x1151cb3d861920e07a38e03eead12c32178567f6', 'https://polygonscan.com/token/0xe5b49820e5a1063f6f4ddf851327b5e8b2301048', 'https://explorer.injective.network/contract/inj14rry9q6dym3dgcwzq79yay0e9azdz55jr465ch/', 'https://binplorer.com/address/0xa697e272a73744b343528c3bc4702f2565b2f422', 'https://aptscan.ai/coins/0x2a90fae71afc7460ee42b20ee49a9c9b29272905ad71fef92fbd8b3905a24b56'], 'official_forum_url': ['', '', ''], 'chat_url': ['https://discord.gg/ubqvDDFUhf', '', ''], 'announcement_url': ['', ''], 'twitter_screen_name': 'bonk_inu', 'facebook_username': '', 'bitcointalk_thread_identifier': None, 'telegram_channel_identifier': '', 'subreddit_url': 'https://www.reddit.com', 'repos_url': {'github': [], 'bitbucket': []}}, 'image': {'thumb': 'https://assets.coingecko.com/coins/images/28600/thumb/bonk.jpg?1696527587', 'small': 'https://assets.coingecko.com/coins/images/28600/small/bonk.jpg?1696527587', 'large': 'https://assets.coingecko.com/coins/images/28600/large/bonk.jpg?1696527587'}, 'country_origin': '', 'genesis_date': None, 'contract_address': 'DezXAZ8z7PnrnRJjz3wXBoRgixCa6xjnB7YaB1pPB263', 'sentiment_votes_up_percentage': 80.23, 'sentiment_votes_down_percentage': 19.77, 'watchlist_portfolio_users': 103229, 'market_cap_rank': 74, 'status_updates': [], 'last_updated': '2024-03-22T01:02:09.786Z'}\n",
      "{'status': {'error_code': 429, 'error_message': \"You've exceeded the Rate Limit. Please visit https://www.coingecko.com/en/api/pricing to subscribe to our API plans for higher rate limits.\"}}\n"
     ]
    },
    {
     "ename": "KeyError",
     "evalue": "'description'",
     "output_type": "error",
     "traceback": [
      "\u001B[0;31m---------------------------------------------------------------------------\u001B[0m",
      "\u001B[0;31mKeyError\u001B[0m                                  Traceback (most recent call last)",
      "Cell \u001B[0;32mIn[108], line 5\u001B[0m\n\u001B[1;32m      3\u001B[0m coin_data \u001B[38;5;241m=\u001B[39m response\u001B[38;5;241m.\u001B[39mjson()\n\u001B[1;32m      4\u001B[0m \u001B[38;5;28mprint\u001B[39m(coin_data)\n\u001B[0;32m----> 5\u001B[0m description \u001B[38;5;241m=\u001B[39m \u001B[43mcoin_data\u001B[49m\u001B[43m[\u001B[49m\u001B[38;5;124;43m'\u001B[39;49m\u001B[38;5;124;43mdescription\u001B[39;49m\u001B[38;5;124;43m'\u001B[39;49m\u001B[43m]\u001B[49m[\u001B[38;5;124m'\u001B[39m\u001B[38;5;124men\u001B[39m\u001B[38;5;124m'\u001B[39m]\n\u001B[1;32m      6\u001B[0m coin_to_description[coin[\u001B[38;5;124m'\u001B[39m\u001B[38;5;124mid\u001B[39m\u001B[38;5;124m'\u001B[39m]] \u001B[38;5;241m=\u001B[39m description\n\u001B[1;32m      7\u001B[0m \u001B[38;5;28;01mif\u001B[39;00m i \u001B[38;5;241m%\u001B[39m \u001B[38;5;241m5\u001B[39m \u001B[38;5;241m==\u001B[39m \u001B[38;5;241m0\u001B[39m:\n",
      "\u001B[0;31mKeyError\u001B[0m: 'description'"
     ]
    }
   ],
   "source": [
    "for i, coin in enumerate(coins[66:500]):\n",
    "    response = requests.get(f\"{info_url}/{coin['id']}?localization=false&tickers=false&market_data=false&community_data=false&developer_data=false\", headers=headers)\n",
    "    coin_data = response.json()\n",
    "    print(coin_data)\n",
    "    description = coin_data['description']['en']\n",
    "    coin_to_description[coin['id']] = description\n",
    "    if i % 5 == 0:\n",
    "        time.sleep(61)"
   ]
  },
  {
   "cell_type": "code",
   "execution_count": 106,
   "id": "555ea6ca",
   "metadata": {},
   "outputs": [
    {
     "data": {
      "text/plain": [
       "66"
      ]
     },
     "execution_count": 106,
     "metadata": {},
     "output_type": "execute_result"
    }
   ],
   "source": [
    "len(coin_to_description)"
   ]
  },
  {
   "cell_type": "code",
   "execution_count": 107,
   "id": "32a50d95",
   "metadata": {},
   "outputs": [],
   "source": [
    "import json\n",
    "\n",
    "with open(\"../data/coin-description.json\", \"w\") as f:\n",
    "    json.dump(coin_to_description, f)"
   ]
  },
  {
   "cell_type": "code",
   "execution_count": 44,
   "id": "c2947229",
   "metadata": {},
   "outputs": [
    {
     "data": {
      "text/plain": [
       "300"
      ]
     },
     "execution_count": 44,
     "metadata": {},
     "output_type": "execute_result"
    }
   ],
   "source": [
    "len(coins)"
   ]
  },
  {
   "cell_type": "code",
   "execution_count": 92,
   "id": "ab80de7d",
   "metadata": {},
   "outputs": [
    {
     "name": "stdout",
     "output_type": "stream",
     "text": [
      "Dockerfile      README.md       \u001B[34mdata\u001B[m\u001B[m/           poetry.lock     pyproject.toml\n",
      "LICENSE         \u001B[34mapp\u001B[m\u001B[m/            \u001B[34mplayground\u001B[m\u001B[m/     poetry.toml     \u001B[34mscripts\u001B[m\u001B[m/\n"
     ]
    }
   ],
   "source": [
    "ls ../"
   ]
  },
  {
   "cell_type": "code",
   "execution_count": 93,
   "id": "b6a03ae9",
   "metadata": {},
   "outputs": [],
   "source": [
    "from pathlib import Path\n",
    "from pprint import pprint\n",
    "\n",
    "\n",
    "file_path='../data/coin-description.json'\n",
    "data = json.loads(Path(file_path).read_text())"
   ]
  },
  {
   "cell_type": "code",
   "execution_count": 101,
   "id": "4bcb209e",
   "metadata": {},
   "outputs": [],
   "source": [
    "from langchain_community.document_loaders import JSONLoader\n",
    "loader = JSONLoader(\n",
    "    file_path='../data/coin-description.json',\n",
    "    jq_schema='.[]',\n",
    "    text_content=False\n",
    ")\n",
    "\n",
    "data = loader.load()"
   ]
  },
  {
   "cell_type": "code",
   "execution_count": null,
   "id": "d8c51417",
   "metadata": {},
   "outputs": [],
   "source": []
  }
 ],
 "metadata": {
  "kernelspec": {
   "display_name": "Python 3",
   "language": "python",
   "name": "python3"
  },
  "language_info": {
   "codemirror_mode": {
    "name": "ipython",
    "version": 3
   },
   "file_extension": ".py",
   "mimetype": "text/x-python",
   "name": "python",
   "nbconvert_exporter": "python",
   "pygments_lexer": "ipython3",
   "version": "3.11.8"
  }
 },
 "nbformat": 4,
 "nbformat_minor": 5
}
