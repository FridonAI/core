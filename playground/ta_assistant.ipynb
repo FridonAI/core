{
 "cells": [
  {
   "cell_type": "code",
   "execution_count": 91,
   "id": "initial_id",
   "metadata": {
    "collapsed": true,
    "ExecuteTime": {
     "end_time": "2024-04-04T22:08:44.852998Z",
     "start_time": "2024-04-04T22:08:44.849128Z"
    }
   },
   "outputs": [],
   "source": [
    "import os\n",
    "\n",
    "import pandas as pd\n",
    "import pandas_ta as ta\n",
    "import numpy as np\n",
    "import matplotlib.pyplot as plt\n",
    "import requests\n",
    "from datetime import datetime, timedelta\n",
    "from langchain_openai import ChatOpenAI, OpenAI\n",
    "from langchain_core.prompts import ChatPromptTemplate, MessagesPlaceholder\n",
    "from langchain_core.output_parsers import StrOutputParser\n",
    "from getpass import getpass"
   ]
  },
  {
   "cell_type": "code",
   "outputs": [
    {
     "data": {
      "text/plain": "(1701893577, 1712261577)"
     },
     "execution_count": 26,
     "metadata": {},
     "output_type": "execute_result"
    }
   ],
   "source": [
    "time_to = int(datetime.now().timestamp())\n",
    "time_from = int((time_to - timedelta(days=120).total_seconds()))\n",
    "time_from, time_to"
   ],
   "metadata": {
    "collapsed": false,
    "ExecuteTime": {
     "end_time": "2024-04-04T20:12:57.770310Z",
     "start_time": "2024-04-04T20:12:57.761194Z"
    }
   },
   "id": "95f3bb3cbd7425fa",
   "execution_count": 26
  },
  {
   "cell_type": "code",
   "outputs": [],
   "source": [
    "resp = requests.get('https://api.kraken.com/0/public/OHLC?pair=WIFUSD&interval=60&since=1701891170')\n",
    "\n",
    "data = resp.json()['result']['WIFUSD']\n"
   ],
   "metadata": {
    "collapsed": false,
    "ExecuteTime": {
     "end_time": "2024-04-04T20:11:32.362996Z",
     "start_time": "2024-04-04T20:11:31.736137Z"
    }
   },
   "id": "9618bcb500e6c99c",
   "execution_count": 24
  },
  {
   "cell_type": "code",
   "outputs": [
    {
     "data": {
      "text/plain": "           time    open    high     low   close    vwap       volume  count\n715  1712246400  3.8263  3.8786  3.7837  3.8495  3.7964  17854.04157     70\n716  1712250000  3.8165  3.9251  3.7979  3.9104  3.8438  25927.91534     99\n717  1712253600  3.9109  3.9602  3.7277  3.7436  3.8499  58290.87371    263\n718  1712257200  3.7274  3.7439  3.6621  3.6621  3.7086  70596.96143    286\n719  1712260800  3.6608  3.6608  3.6255  3.6255  3.6384   6372.34409     35",
      "text/html": "<div>\n<style scoped>\n    .dataframe tbody tr th:only-of-type {\n        vertical-align: middle;\n    }\n\n    .dataframe tbody tr th {\n        vertical-align: top;\n    }\n\n    .dataframe thead th {\n        text-align: right;\n    }\n</style>\n<table border=\"1\" class=\"dataframe\">\n  <thead>\n    <tr style=\"text-align: right;\">\n      <th></th>\n      <th>time</th>\n      <th>open</th>\n      <th>high</th>\n      <th>low</th>\n      <th>close</th>\n      <th>vwap</th>\n      <th>volume</th>\n      <th>count</th>\n    </tr>\n  </thead>\n  <tbody>\n    <tr>\n      <th>715</th>\n      <td>1712246400</td>\n      <td>3.8263</td>\n      <td>3.8786</td>\n      <td>3.7837</td>\n      <td>3.8495</td>\n      <td>3.7964</td>\n      <td>17854.04157</td>\n      <td>70</td>\n    </tr>\n    <tr>\n      <th>716</th>\n      <td>1712250000</td>\n      <td>3.8165</td>\n      <td>3.9251</td>\n      <td>3.7979</td>\n      <td>3.9104</td>\n      <td>3.8438</td>\n      <td>25927.91534</td>\n      <td>99</td>\n    </tr>\n    <tr>\n      <th>717</th>\n      <td>1712253600</td>\n      <td>3.9109</td>\n      <td>3.9602</td>\n      <td>3.7277</td>\n      <td>3.7436</td>\n      <td>3.8499</td>\n      <td>58290.87371</td>\n      <td>263</td>\n    </tr>\n    <tr>\n      <th>718</th>\n      <td>1712257200</td>\n      <td>3.7274</td>\n      <td>3.7439</td>\n      <td>3.6621</td>\n      <td>3.6621</td>\n      <td>3.7086</td>\n      <td>70596.96143</td>\n      <td>286</td>\n    </tr>\n    <tr>\n      <th>719</th>\n      <td>1712260800</td>\n      <td>3.6608</td>\n      <td>3.6608</td>\n      <td>3.6255</td>\n      <td>3.6255</td>\n      <td>3.6384</td>\n      <td>6372.34409</td>\n      <td>35</td>\n    </tr>\n  </tbody>\n</table>\n</div>"
     },
     "execution_count": 27,
     "metadata": {},
     "output_type": "execute_result"
    }
   ],
   "source": [
    "pd.DataFrame(data, columns=['time', 'open', 'high', 'low', 'close', 'vwap', 'volume', 'count']).tail()"
   ],
   "metadata": {
    "collapsed": false,
    "ExecuteTime": {
     "end_time": "2024-04-04T20:13:14.473168Z",
     "start_time": "2024-04-04T20:13:14.459823Z"
    }
   },
   "id": "b551cfed11dc28e8",
   "execution_count": 27
  },
  {
   "cell_type": "code",
   "outputs": [],
   "source": [
    "def read_ohlcv_date(symbol: str) -> pd.DataFrame:\n",
    "    time_to = int(datetime.now().timestamp())\n",
    "    time_from = int((time_to - timedelta(days=120).total_seconds()))\n",
    "    resp = requests.get(f'https://api.kraken.com/0/public/OHLC?pair={symbol.upper()}USD&interval=60&since={time_from}')\n",
    "    data = resp.json()['result'][f'{symbol.upper()}USD']\n",
    "    df = pd.DataFrame(data, columns=['time', 'open', 'high', 'low', 'close', 'vwap', 'volume', 'count'])\n",
    "    df.drop(columns=['vwap', 'count'], inplace=True)\n",
    "    df.rename(columns={'time': 'date'}, inplace=True)\n",
    "    df['date'] = pd.to_datetime(df['date'], unit='s')\n",
    "    df['open'] = df['open'].astype(float)\n",
    "    df['high'] = df['high'].astype(float)\n",
    "    df['low'] = df['low'].astype(float)\n",
    "    df['close'] = df['close'].astype(float)\n",
    "    df['volume'] = df['volume'].astype(float)\n",
    "    df.set_index('date', inplace=True)\n",
    "    df = df.iloc[:-1]\n",
    "    return df"
   ],
   "metadata": {
    "collapsed": false,
    "ExecuteTime": {
     "end_time": "2024-04-04T20:45:18.201395Z",
     "start_time": "2024-04-04T20:45:18.192636Z"
    }
   },
   "id": "301858c924dc09e9",
   "execution_count": 35
  },
  {
   "cell_type": "code",
   "outputs": [
    {
     "data": {
      "text/plain": "                       open    high     low   close        volume\ndate                                                             \n2024-04-05 06:00:00  3.3127  3.3795  3.2948  3.3072   38033.53780\n2024-04-05 07:00:00  3.3016  3.3301  3.2625  3.3186    8075.32601\n2024-04-05 08:00:00  3.3181  3.3655  3.2748  3.3146   68336.72455\n2024-04-05 09:00:00  3.3132  3.3368  3.0560  3.2968  331925.55652\n2024-04-05 10:00:00  3.2900  3.3043  3.2105  3.2574   22139.86649",
      "text/html": "<div>\n<style scoped>\n    .dataframe tbody tr th:only-of-type {\n        vertical-align: middle;\n    }\n\n    .dataframe tbody tr th {\n        vertical-align: top;\n    }\n\n    .dataframe thead th {\n        text-align: right;\n    }\n</style>\n<table border=\"1\" class=\"dataframe\">\n  <thead>\n    <tr style=\"text-align: right;\">\n      <th></th>\n      <th>open</th>\n      <th>high</th>\n      <th>low</th>\n      <th>close</th>\n      <th>volume</th>\n    </tr>\n    <tr>\n      <th>date</th>\n      <th></th>\n      <th></th>\n      <th></th>\n      <th></th>\n      <th></th>\n    </tr>\n  </thead>\n  <tbody>\n    <tr>\n      <th>2024-04-05 06:00:00</th>\n      <td>3.3127</td>\n      <td>3.3795</td>\n      <td>3.2948</td>\n      <td>3.3072</td>\n      <td>38033.53780</td>\n    </tr>\n    <tr>\n      <th>2024-04-05 07:00:00</th>\n      <td>3.3016</td>\n      <td>3.3301</td>\n      <td>3.2625</td>\n      <td>3.3186</td>\n      <td>8075.32601</td>\n    </tr>\n    <tr>\n      <th>2024-04-05 08:00:00</th>\n      <td>3.3181</td>\n      <td>3.3655</td>\n      <td>3.2748</td>\n      <td>3.3146</td>\n      <td>68336.72455</td>\n    </tr>\n    <tr>\n      <th>2024-04-05 09:00:00</th>\n      <td>3.3132</td>\n      <td>3.3368</td>\n      <td>3.0560</td>\n      <td>3.2968</td>\n      <td>331925.55652</td>\n    </tr>\n    <tr>\n      <th>2024-04-05 10:00:00</th>\n      <td>3.2900</td>\n      <td>3.3043</td>\n      <td>3.2105</td>\n      <td>3.2574</td>\n      <td>22139.86649</td>\n    </tr>\n  </tbody>\n</table>\n</div>"
     },
     "execution_count": 120,
     "metadata": {},
     "output_type": "execute_result"
    }
   ],
   "source": [
    "sol_df = read_ohlcv_date('WIF')\n",
    "sol_df.tail()"
   ],
   "metadata": {
    "collapsed": false,
    "ExecuteTime": {
     "end_time": "2024-04-05T11:36:25.073053Z",
     "start_time": "2024-04-05T11:36:24.259291Z"
    }
   },
   "id": "fe4ae4c4040d514f",
   "execution_count": 120
  },
  {
   "cell_type": "code",
   "outputs": [
    {
     "data": {
      "text/plain": "open      float64\nhigh      float64\nlow       float64\nclose     float64\nvolume    float64\ndtype: object"
     },
     "execution_count": 121,
     "metadata": {},
     "output_type": "execute_result"
    }
   ],
   "source": [
    "sol_df.dtypes"
   ],
   "metadata": {
    "collapsed": false,
    "ExecuteTime": {
     "end_time": "2024-04-05T11:36:30.516696Z",
     "start_time": "2024-04-05T11:36:30.506986Z"
    }
   },
   "id": "3feec9a018261f9c",
   "execution_count": 121
  },
  {
   "cell_type": "code",
   "outputs": [
    {
     "data": {
      "text/plain": "                     PSARl_0.02_0.2  PSARs_0.02_0.2  PSARaf_0.02_0.2  \\\ndate                                                                   \n2024-03-06 12:00:00             NaN             NaN             0.02   \n2024-03-06 13:00:00        1.851100             NaN             0.02   \n2024-03-06 14:00:00        1.851100             NaN             0.04   \n2024-03-06 15:00:00        1.867800             NaN             0.04   \n2024-03-06 16:00:00        1.883832             NaN             0.04   \n...                             ...             ...              ...   \n2024-04-05 06:00:00             NaN        3.500812             0.20   \n2024-04-05 07:00:00             NaN        3.445909             0.20   \n2024-04-05 08:00:00             NaN        3.401988             0.20   \n2024-04-05 09:00:00             NaN        3.366850             0.20   \n2024-04-05 10:00:00             NaN        3.365500             0.20   \n\n                     PSARr_0.02_0.2  \ndate                                 \n2024-03-06 12:00:00               0  \n2024-03-06 13:00:00               0  \n2024-03-06 14:00:00               0  \n2024-03-06 15:00:00               0  \n2024-03-06 16:00:00               0  \n...                             ...  \n2024-04-05 06:00:00               0  \n2024-04-05 07:00:00               0  \n2024-04-05 08:00:00               0  \n2024-04-05 09:00:00               0  \n2024-04-05 10:00:00               0  \n\n[719 rows x 4 columns]",
      "text/html": "<div>\n<style scoped>\n    .dataframe tbody tr th:only-of-type {\n        vertical-align: middle;\n    }\n\n    .dataframe tbody tr th {\n        vertical-align: top;\n    }\n\n    .dataframe thead th {\n        text-align: right;\n    }\n</style>\n<table border=\"1\" class=\"dataframe\">\n  <thead>\n    <tr style=\"text-align: right;\">\n      <th></th>\n      <th>PSARl_0.02_0.2</th>\n      <th>PSARs_0.02_0.2</th>\n      <th>PSARaf_0.02_0.2</th>\n      <th>PSARr_0.02_0.2</th>\n    </tr>\n    <tr>\n      <th>date</th>\n      <th></th>\n      <th></th>\n      <th></th>\n      <th></th>\n    </tr>\n  </thead>\n  <tbody>\n    <tr>\n      <th>2024-03-06 12:00:00</th>\n      <td>NaN</td>\n      <td>NaN</td>\n      <td>0.02</td>\n      <td>0</td>\n    </tr>\n    <tr>\n      <th>2024-03-06 13:00:00</th>\n      <td>1.851100</td>\n      <td>NaN</td>\n      <td>0.02</td>\n      <td>0</td>\n    </tr>\n    <tr>\n      <th>2024-03-06 14:00:00</th>\n      <td>1.851100</td>\n      <td>NaN</td>\n      <td>0.04</td>\n      <td>0</td>\n    </tr>\n    <tr>\n      <th>2024-03-06 15:00:00</th>\n      <td>1.867800</td>\n      <td>NaN</td>\n      <td>0.04</td>\n      <td>0</td>\n    </tr>\n    <tr>\n      <th>2024-03-06 16:00:00</th>\n      <td>1.883832</td>\n      <td>NaN</td>\n      <td>0.04</td>\n      <td>0</td>\n    </tr>\n    <tr>\n      <th>...</th>\n      <td>...</td>\n      <td>...</td>\n      <td>...</td>\n      <td>...</td>\n    </tr>\n    <tr>\n      <th>2024-04-05 06:00:00</th>\n      <td>NaN</td>\n      <td>3.500812</td>\n      <td>0.20</td>\n      <td>0</td>\n    </tr>\n    <tr>\n      <th>2024-04-05 07:00:00</th>\n      <td>NaN</td>\n      <td>3.445909</td>\n      <td>0.20</td>\n      <td>0</td>\n    </tr>\n    <tr>\n      <th>2024-04-05 08:00:00</th>\n      <td>NaN</td>\n      <td>3.401988</td>\n      <td>0.20</td>\n      <td>0</td>\n    </tr>\n    <tr>\n      <th>2024-04-05 09:00:00</th>\n      <td>NaN</td>\n      <td>3.366850</td>\n      <td>0.20</td>\n      <td>0</td>\n    </tr>\n    <tr>\n      <th>2024-04-05 10:00:00</th>\n      <td>NaN</td>\n      <td>3.365500</td>\n      <td>0.20</td>\n      <td>0</td>\n    </tr>\n  </tbody>\n</table>\n<p>719 rows × 4 columns</p>\n</div>"
     },
     "execution_count": 122,
     "metadata": {},
     "output_type": "execute_result"
    }
   ],
   "source": [
    "sol_df.ta.macd(append=True)\n",
    "sol_df.ta.rsi(append=True)\n",
    "sol_df.ta.bbands(append=True)\n",
    "sol_df.ta.obv(append=True)\n",
    "\n",
    "sol_df.ta.sma(length=20, append=True)\n",
    "sol_df.ta.ema(length=50, append=True)\n",
    "sol_df.ta.stoch(append=True)\n",
    "sol_df.ta.adx(append=True)\n",
    "\n",
    "sol_df.ta.willr(append=True)\n",
    "sol_df.ta.cmf(append=True)\n",
    "sol_df.ta.psar(append=True)"
   ],
   "metadata": {
    "collapsed": false,
    "ExecuteTime": {
     "end_time": "2024-04-05T11:36:32.990658Z",
     "start_time": "2024-04-05T11:36:32.794236Z"
    }
   },
   "id": "e910fdb4b462c767",
   "execution_count": 122
  },
  {
   "cell_type": "code",
   "outputs": [
    {
     "data": {
      "text/plain": "                       open    high     low   close        volume  \\\ndate                                                                \n2024-04-05 06:00:00  3.3127  3.3795  3.2948  3.3072   38033.53780   \n2024-04-05 07:00:00  3.3016  3.3301  3.2625  3.3186    8075.32601   \n2024-04-05 08:00:00  3.3181  3.3655  3.2748  3.3146   68336.72455   \n2024-04-05 09:00:00  3.3132  3.3368  3.0560  3.2968  331925.55652   \n2024-04-05 10:00:00  3.2900  3.3043  3.2105  3.2574   22139.86649   \n\n                     MACD_12_26_9  MACDh_12_26_9  MACDs_12_26_9     RSI_14  \\\ndate                                                                         \n2024-04-05 06:00:00     -0.130216      -0.033011      -0.097205  30.671212   \n2024-04-05 07:00:00     -0.131755      -0.027640      -0.104115  31.714775   \n2024-04-05 08:00:00     -0.131779      -0.022131      -0.109648  31.535408   \n2024-04-05 09:00:00     -0.131715      -0.017654      -0.114061  30.703240   \n2024-04-05 10:00:00     -0.133308      -0.015397      -0.117911  28.886203   \n\n                     BBL_5_2.0  ...  STOCHd_14_3_3     ADX_14     DMP_14  \\\ndate                            ...                                        \n2024-04-05 06:00:00   3.259350  ...       8.264155  22.262396  15.940831   \n2024-04-05 07:00:00   3.251737  ...      10.194849  23.414064  15.212433   \n2024-04-05 08:00:00   3.305833  ...      11.459098  23.993215  16.687559   \n2024-04-05 09:00:00   3.294184  ...      16.284392  25.744987  13.831432   \n2024-04-05 10:00:00   3.254828  ...      22.635906  27.371633  13.029212   \n\n                        DMN_14   WILLR_14    CMF_20  PSARl_0.02_0.2  \\\ndate                                                                  \n2024-04-05 06:00:00  33.515304 -88.976700 -0.434457             NaN   \n2024-04-05 07:00:00  34.167162 -87.423355 -0.439614             NaN   \n2024-04-05 08:00:00  32.051020 -82.940495 -0.356624             NaN   \n2024-04-05 09:00:00  39.901677 -60.185185 -0.031468             NaN   \n2024-04-05 10:00:00  37.587389 -63.261583 -0.040345             NaN   \n\n                     PSARs_0.02_0.2  PSARaf_0.02_0.2  PSARr_0.02_0.2  \ndate                                                                  \n2024-04-05 06:00:00        3.500812              0.2               0  \n2024-04-05 07:00:00        3.445909              0.2               0  \n2024-04-05 08:00:00        3.401988              0.2               0  \n2024-04-05 09:00:00        3.366850              0.2               0  \n2024-04-05 10:00:00        3.365500              0.2               0  \n\n[5 rows x 28 columns]",
      "text/html": "<div>\n<style scoped>\n    .dataframe tbody tr th:only-of-type {\n        vertical-align: middle;\n    }\n\n    .dataframe tbody tr th {\n        vertical-align: top;\n    }\n\n    .dataframe thead th {\n        text-align: right;\n    }\n</style>\n<table border=\"1\" class=\"dataframe\">\n  <thead>\n    <tr style=\"text-align: right;\">\n      <th></th>\n      <th>open</th>\n      <th>high</th>\n      <th>low</th>\n      <th>close</th>\n      <th>volume</th>\n      <th>MACD_12_26_9</th>\n      <th>MACDh_12_26_9</th>\n      <th>MACDs_12_26_9</th>\n      <th>RSI_14</th>\n      <th>BBL_5_2.0</th>\n      <th>...</th>\n      <th>STOCHd_14_3_3</th>\n      <th>ADX_14</th>\n      <th>DMP_14</th>\n      <th>DMN_14</th>\n      <th>WILLR_14</th>\n      <th>CMF_20</th>\n      <th>PSARl_0.02_0.2</th>\n      <th>PSARs_0.02_0.2</th>\n      <th>PSARaf_0.02_0.2</th>\n      <th>PSARr_0.02_0.2</th>\n    </tr>\n    <tr>\n      <th>date</th>\n      <th></th>\n      <th></th>\n      <th></th>\n      <th></th>\n      <th></th>\n      <th></th>\n      <th></th>\n      <th></th>\n      <th></th>\n      <th></th>\n      <th></th>\n      <th></th>\n      <th></th>\n      <th></th>\n      <th></th>\n      <th></th>\n      <th></th>\n      <th></th>\n      <th></th>\n      <th></th>\n      <th></th>\n    </tr>\n  </thead>\n  <tbody>\n    <tr>\n      <th>2024-04-05 06:00:00</th>\n      <td>3.3127</td>\n      <td>3.3795</td>\n      <td>3.2948</td>\n      <td>3.3072</td>\n      <td>38033.53780</td>\n      <td>-0.130216</td>\n      <td>-0.033011</td>\n      <td>-0.097205</td>\n      <td>30.671212</td>\n      <td>3.259350</td>\n      <td>...</td>\n      <td>8.264155</td>\n      <td>22.262396</td>\n      <td>15.940831</td>\n      <td>33.515304</td>\n      <td>-88.976700</td>\n      <td>-0.434457</td>\n      <td>NaN</td>\n      <td>3.500812</td>\n      <td>0.2</td>\n      <td>0</td>\n    </tr>\n    <tr>\n      <th>2024-04-05 07:00:00</th>\n      <td>3.3016</td>\n      <td>3.3301</td>\n      <td>3.2625</td>\n      <td>3.3186</td>\n      <td>8075.32601</td>\n      <td>-0.131755</td>\n      <td>-0.027640</td>\n      <td>-0.104115</td>\n      <td>31.714775</td>\n      <td>3.251737</td>\n      <td>...</td>\n      <td>10.194849</td>\n      <td>23.414064</td>\n      <td>15.212433</td>\n      <td>34.167162</td>\n      <td>-87.423355</td>\n      <td>-0.439614</td>\n      <td>NaN</td>\n      <td>3.445909</td>\n      <td>0.2</td>\n      <td>0</td>\n    </tr>\n    <tr>\n      <th>2024-04-05 08:00:00</th>\n      <td>3.3181</td>\n      <td>3.3655</td>\n      <td>3.2748</td>\n      <td>3.3146</td>\n      <td>68336.72455</td>\n      <td>-0.131779</td>\n      <td>-0.022131</td>\n      <td>-0.109648</td>\n      <td>31.535408</td>\n      <td>3.305833</td>\n      <td>...</td>\n      <td>11.459098</td>\n      <td>23.993215</td>\n      <td>16.687559</td>\n      <td>32.051020</td>\n      <td>-82.940495</td>\n      <td>-0.356624</td>\n      <td>NaN</td>\n      <td>3.401988</td>\n      <td>0.2</td>\n      <td>0</td>\n    </tr>\n    <tr>\n      <th>2024-04-05 09:00:00</th>\n      <td>3.3132</td>\n      <td>3.3368</td>\n      <td>3.0560</td>\n      <td>3.2968</td>\n      <td>331925.55652</td>\n      <td>-0.131715</td>\n      <td>-0.017654</td>\n      <td>-0.114061</td>\n      <td>30.703240</td>\n      <td>3.294184</td>\n      <td>...</td>\n      <td>16.284392</td>\n      <td>25.744987</td>\n      <td>13.831432</td>\n      <td>39.901677</td>\n      <td>-60.185185</td>\n      <td>-0.031468</td>\n      <td>NaN</td>\n      <td>3.366850</td>\n      <td>0.2</td>\n      <td>0</td>\n    </tr>\n    <tr>\n      <th>2024-04-05 10:00:00</th>\n      <td>3.2900</td>\n      <td>3.3043</td>\n      <td>3.2105</td>\n      <td>3.2574</td>\n      <td>22139.86649</td>\n      <td>-0.133308</td>\n      <td>-0.015397</td>\n      <td>-0.117911</td>\n      <td>28.886203</td>\n      <td>3.254828</td>\n      <td>...</td>\n      <td>22.635906</td>\n      <td>27.371633</td>\n      <td>13.029212</td>\n      <td>37.587389</td>\n      <td>-63.261583</td>\n      <td>-0.040345</td>\n      <td>NaN</td>\n      <td>3.365500</td>\n      <td>0.2</td>\n      <td>0</td>\n    </tr>\n  </tbody>\n</table>\n<p>5 rows × 28 columns</p>\n</div>"
     },
     "execution_count": 123,
     "metadata": {},
     "output_type": "execute_result"
    }
   ],
   "source": [
    "sol_df.tail()"
   ],
   "metadata": {
    "collapsed": false,
    "ExecuteTime": {
     "end_time": "2024-04-05T11:36:36.091893Z",
     "start_time": "2024-04-05T11:36:36.067716Z"
    }
   },
   "id": "7896bf1454228d58",
   "execution_count": 123
  },
  {
   "cell_type": "code",
   "outputs": [],
   "source": [
    "sol_df['OBV_in_million'] = sol_df['OBV']/1e7\n",
    "sol_df['MACD_histogram_12_26_9'] = sol_df['MACDh_12_26_9']"
   ],
   "metadata": {
    "collapsed": false,
    "ExecuteTime": {
     "end_time": "2024-04-05T11:36:38.896881Z",
     "start_time": "2024-04-05T11:36:38.890305Z"
    }
   },
   "id": "95e1bf929c054d29",
   "execution_count": 124
  },
  {
   "cell_type": "code",
   "outputs": [
    {
     "name": "stdout",
     "output_type": "stream",
     "text": [
      "Summary of Technical Indicators for the Last Day:\n",
      "close                      3.257400\n",
      "MACD_12_26_9              -0.133308\n",
      "MACD_histogram_12_26_9    -0.015397\n",
      "RSI_14                    28.886203\n",
      "BBL_5_2.0                  3.254828\n",
      "BBM_5_2.0                  3.298920\n",
      "BBU_5_2.0                  3.343012\n",
      "SMA_20                     3.501200\n",
      "EMA_50                     3.649228\n",
      "OBV_in_million             0.435720\n",
      "STOCHk_14_3_3             31.204246\n",
      "STOCHd_14_3_3             22.635906\n",
      "ADX_14                    27.371633\n",
      "WILLR_14                 -63.261583\n",
      "CMF_20                    -0.040345\n",
      "PSARl_0.02_0.2                  NaN\n",
      "PSARs_0.02_0.2             3.365500\n",
      "Name: 2024-04-05 10:00:00, dtype: float64\n"
     ]
    }
   ],
   "source": [
    "last_day_summary = sol_df.iloc[-1][['close',\n",
    "    'MACD_12_26_9','MACD_histogram_12_26_9', 'RSI_14', 'BBL_5_2.0', 'BBM_5_2.0', 'BBU_5_2.0','SMA_20', 'EMA_50','OBV_in_million', 'STOCHk_14_3_3', \n",
    "    'STOCHd_14_3_3', 'ADX_14',  'WILLR_14', 'CMF_20', \n",
    "    'PSARl_0.02_0.2', 'PSARs_0.02_0.2'\n",
    "]]\n",
    "\n",
    "print(\"Summary of Technical Indicators for the Last Day:\")\n",
    "print(last_day_summary)"
   ],
   "metadata": {
    "collapsed": false,
    "ExecuteTime": {
     "end_time": "2024-04-05T11:36:40.821286Z",
     "start_time": "2024-04-05T11:36:40.812277Z"
    }
   },
   "id": "74f5f35f0fef135c",
   "execution_count": 125
  },
  {
   "cell_type": "code",
   "outputs": [],
   "source": [
    "OPENAI_API_KEY = getpass(\"Enter your OpenAI API Key: \")"
   ],
   "metadata": {
    "collapsed": false,
    "ExecuteTime": {
     "end_time": "2024-04-04T21:52:10.398309Z",
     "start_time": "2024-04-04T21:50:02.593504Z"
    }
   },
   "id": "2471e0996ecb28b3",
   "execution_count": 52
  },
  {
   "cell_type": "code",
   "outputs": [],
   "source": [
    "os.environ['OPENAI_API_KEY'] = OPENAI_API_KEY"
   ],
   "metadata": {
    "collapsed": false,
    "ExecuteTime": {
     "end_time": "2024-04-04T21:52:33.244841Z",
     "start_time": "2024-04-04T21:52:33.241036Z"
    }
   },
   "id": "997a113783c57e0d",
   "execution_count": 55
  },
  {
   "cell_type": "code",
   "outputs": [],
   "source": [
    "llm = ChatOpenAI(model=\"gpt-4-turbo-preview\", temperature=0)\n",
    "# llm = OpenAI(model=\"gpt-3.5-turbo-instruct\", temperature=0)\n",
    "# llm = ChatOpenAI(model=\"gpt-3.5-turbo\", temperature=0)"
   ],
   "metadata": {
    "collapsed": false,
    "ExecuteTime": {
     "end_time": "2024-04-05T11:46:32.496616Z",
     "start_time": "2024-04-05T11:46:32.446285Z"
    }
   },
   "id": "a908368ae30f832c",
   "execution_count": 132
  },
  {
   "cell_type": "code",
   "outputs": [],
   "source": [
    "prompt = ChatPromptTemplate.from_template(\"\"\"\n",
    "Assume the role as a leading Technical Analysis (TA) expert in the stock market, \\\n",
    "a modern counterpart to Charles Dow, John Bollinger, and Alan Andrews. \\\n",
    "Your mastery encompasses both stock fundamentals and intricate technical indicators. \\\n",
    "You possess the ability to decode complex market dynamics, \\\n",
    "providing clear insights and recommendations backed by a thorough understanding of interrelated factors. \\\n",
    "Your expertise extends to practical tools like the pandas_ta module, \\\n",
    "allowing you to navigate data intricacies with ease. \\\n",
    "As a TA authority, your role is to decipher market trends, make informed predictions, and offer valuable perspectives.\n",
    "\n",
    "given {symbol} TA data as below on the last trading day, what will be the next few days possible crypto price movement? \n",
    "\n",
    "Summary of Technical Indicators for the Last Day:\n",
    "{last_day_summary}\"\"\".format(symbol=\"WIF\", last_day_summary=last_day_summary))"
   ],
   "metadata": {
    "collapsed": false,
    "ExecuteTime": {
     "end_time": "2024-04-05T11:46:35.213609Z",
     "start_time": "2024-04-05T11:46:35.207672Z"
    }
   },
   "id": "615c31ed1bb70ca6",
   "execution_count": 133
  },
  {
   "cell_type": "code",
   "outputs": [],
   "source": [
    "chain = prompt | llm | StrOutputParser()"
   ],
   "metadata": {
    "collapsed": false,
    "ExecuteTime": {
     "end_time": "2024-04-05T11:46:38.902467Z",
     "start_time": "2024-04-05T11:46:38.899045Z"
    }
   },
   "id": "aab26941b553f57",
   "execution_count": 134
  },
  {
   "cell_type": "code",
   "outputs": [],
   "source": [
    "response = chain.invoke({})"
   ],
   "metadata": {
    "collapsed": false,
    "ExecuteTime": {
     "end_time": "2024-04-05T11:47:00.186574Z",
     "start_time": "2024-04-05T11:46:41.295111Z"
    }
   },
   "id": "5cc4b4a8a7fece11",
   "execution_count": 135
  },
  {
   "cell_type": "code",
   "outputs": [
    {
     "name": "stdout",
     "output_type": "stream",
     "text": [
      "Analyzing the given technical indicators for the cryptocurrency WIF on the last trading day, we can derive insights into its potential price movement in the near future. Let's break down the key indicators:\n",
      "\n",
      "1. **MACD (Moving Average Convergence Divergence)**: The MACD is at -0.133308 with a histogram value of -0.015397, indicating that the MACD line is below the signal line. This typically suggests bearish momentum. However, the small histogram value suggests that bearish momentum is weakening.\n",
      "\n",
      "2. **RSI (Relative Strength Index)**: With an RSI of 28.886203, the asset is in the oversold territory. This condition often precedes a potential reversal or correction upwards as sellers may start to exhaust.\n",
      "\n",
      "3. **Bollinger Bands (BB)**: The closing price is very close to the lower Bollinger Band (BBL), which could indicate that the asset is oversold. This condition, similar to the RSI, often leads to a potential price bounce back towards the middle band (BBM) or higher.\n",
      "\n",
      "4. **SMA (Simple Moving Average) and EMA (Exponential Moving Average)**: The closing price is below both the SMA_20 and EMA_50, indicating a bearish trend in the short to medium term. However, this also suggests that there might be resistance levels if the price attempts to move upwards.\n",
      "\n",
      "5. **OBV (On-Balance Volume)**: The OBV value is relatively low, indicating that there is not a significant volume backing the current price movement. This could mean that any price movement might not be very strong or sustained without an increase in volume.\n",
      "\n",
      "6. **Stochastic Oscillator (STOCH)**: The STOCHk (31.204246) is above the STOCHd (22.635906), indicating a potential for price recovery as the momentum might be shifting towards the buyers.\n",
      "\n",
      "7. **ADX (Average Directional Index)**: An ADX value of 27.371633 suggests a strong trend. Given the bearish indicators, this might have been a strong downtrend, but the potential for reversal should be considered due to the oversold conditions.\n",
      "\n",
      "8. **Williams %R (WILLR)**: The Williams %R value indicates the market is in the oversold region, which aligns with the RSI and Bollinger Bands, suggesting a potential upward correction.\n",
      "\n",
      "9. **CMF (Chaikin Money Flow)**: A slightly negative CMF indicates that there is a small amount of selling pressure, but it's not overwhelmingly bearish.\n",
      "\n",
      "10. **PSAR (Parabolic SAR)**: The presence of a PSARs value without a corresponding PSARl value suggests that the trend is currently bearish. However, the PSAR is known for its sensitivity to price movements, and a reversal could quickly change its indication.\n",
      "\n",
      "**Conclusion and Prediction**:\n",
      "Considering the oversold conditions indicated by RSI, Bollinger Bands, and Williams %R, alongside the weakening bearish momentum suggested by the MACD histogram, there is a potential for a short-term price recovery or correction upwards in the next few days. However, the presence of a bearish trend indicated by the SMA, EMA, and ADX suggests that any upward movement might face resistance, and the overall bearish trend could resume if the price does not break above these resistance levels. Investors should watch for an increase in volume (OBV) and a bullish crossover in the MACD as confirmation signals for a stronger upward movement. Always consider market news and broader economic indicators, as technical analysis is just one part of the investment decision-making process.\n"
     ]
    }
   ],
   "source": [
    "print(response)"
   ],
   "metadata": {
    "collapsed": false,
    "ExecuteTime": {
     "end_time": "2024-04-05T11:47:36.508023Z",
     "start_time": "2024-04-05T11:47:36.504411Z"
    }
   },
   "id": "eaba2653b081ca50",
   "execution_count": 136
  }
 ],
 "metadata": {
  "kernelspec": {
   "display_name": "Python 3",
   "language": "python",
   "name": "python3"
  },
  "language_info": {
   "codemirror_mode": {
    "name": "ipython",
    "version": 2
   },
   "file_extension": ".py",
   "mimetype": "text/x-python",
   "name": "python",
   "nbconvert_exporter": "python",
   "pygments_lexer": "ipython2",
   "version": "2.7.6"
  }
 },
 "nbformat": 4,
 "nbformat_minor": 5
}
