{
 "cells": [
  {
   "cell_type": "code",
   "execution_count": 91,
   "id": "initial_id",
   "metadata": {
    "collapsed": true,
    "ExecuteTime": {
     "end_time": "2024-04-04T22:08:44.852998Z",
     "start_time": "2024-04-04T22:08:44.849128Z"
    }
   },
   "outputs": [],
   "source": [
    "import os\n",
    "\n",
    "import pandas as pd\n",
    "import pandas_ta as ta\n",
    "import numpy as np\n",
    "import matplotlib.pyplot as plt\n",
    "import requests\n",
    "from datetime import datetime, timedelta\n",
    "from langchain_openai import ChatOpenAI, OpenAI\n",
    "from langchain_core.prompts import ChatPromptTemplate, MessagesPlaceholder\n",
    "from langchain_core.output_parsers import StrOutputParser\n",
    "from getpass import getpass"
   ]
  },
  {
   "cell_type": "code",
   "outputs": [
    {
     "data": {
      "text/plain": "(1701893577, 1712261577)"
     },
     "execution_count": 26,
     "metadata": {},
     "output_type": "execute_result"
    }
   ],
   "source": [
    "time_to = int(datetime.now().timestamp())\n",
    "time_from = int((time_to - timedelta(days=120).total_seconds()))\n",
    "time_from, time_to"
   ],
   "metadata": {
    "collapsed": false,
    "ExecuteTime": {
     "end_time": "2024-04-04T20:12:57.770310Z",
     "start_time": "2024-04-04T20:12:57.761194Z"
    }
   },
   "id": "95f3bb3cbd7425fa",
   "execution_count": 26
  },
  {
   "cell_type": "code",
   "outputs": [],
   "source": [
    "resp = requests.get('https://api.kraken.com/0/public/OHLC?pair=WIFUSD&interval=60&since=1701891170')\n",
    "\n",
    "data = resp.json()['result']['WIFUSD']\n"
   ],
   "metadata": {
    "collapsed": false,
    "ExecuteTime": {
     "end_time": "2024-04-04T20:11:32.362996Z",
     "start_time": "2024-04-04T20:11:31.736137Z"
    }
   },
   "id": "9618bcb500e6c99c",
   "execution_count": 24
  },
  {
   "cell_type": "code",
   "outputs": [
    {
     "data": {
      "text/plain": "           time    open    high     low   close    vwap       volume  count\n715  1712246400  3.8263  3.8786  3.7837  3.8495  3.7964  17854.04157     70\n716  1712250000  3.8165  3.9251  3.7979  3.9104  3.8438  25927.91534     99\n717  1712253600  3.9109  3.9602  3.7277  3.7436  3.8499  58290.87371    263\n718  1712257200  3.7274  3.7439  3.6621  3.6621  3.7086  70596.96143    286\n719  1712260800  3.6608  3.6608  3.6255  3.6255  3.6384   6372.34409     35",
      "text/html": "<div>\n<style scoped>\n    .dataframe tbody tr th:only-of-type {\n        vertical-align: middle;\n    }\n\n    .dataframe tbody tr th {\n        vertical-align: top;\n    }\n\n    .dataframe thead th {\n        text-align: right;\n    }\n</style>\n<table border=\"1\" class=\"dataframe\">\n  <thead>\n    <tr style=\"text-align: right;\">\n      <th></th>\n      <th>time</th>\n      <th>open</th>\n      <th>high</th>\n      <th>low</th>\n      <th>close</th>\n      <th>vwap</th>\n      <th>volume</th>\n      <th>count</th>\n    </tr>\n  </thead>\n  <tbody>\n    <tr>\n      <th>715</th>\n      <td>1712246400</td>\n      <td>3.8263</td>\n      <td>3.8786</td>\n      <td>3.7837</td>\n      <td>3.8495</td>\n      <td>3.7964</td>\n      <td>17854.04157</td>\n      <td>70</td>\n    </tr>\n    <tr>\n      <th>716</th>\n      <td>1712250000</td>\n      <td>3.8165</td>\n      <td>3.9251</td>\n      <td>3.7979</td>\n      <td>3.9104</td>\n      <td>3.8438</td>\n      <td>25927.91534</td>\n      <td>99</td>\n    </tr>\n    <tr>\n      <th>717</th>\n      <td>1712253600</td>\n      <td>3.9109</td>\n      <td>3.9602</td>\n      <td>3.7277</td>\n      <td>3.7436</td>\n      <td>3.8499</td>\n      <td>58290.87371</td>\n      <td>263</td>\n    </tr>\n    <tr>\n      <th>718</th>\n      <td>1712257200</td>\n      <td>3.7274</td>\n      <td>3.7439</td>\n      <td>3.6621</td>\n      <td>3.6621</td>\n      <td>3.7086</td>\n      <td>70596.96143</td>\n      <td>286</td>\n    </tr>\n    <tr>\n      <th>719</th>\n      <td>1712260800</td>\n      <td>3.6608</td>\n      <td>3.6608</td>\n      <td>3.6255</td>\n      <td>3.6255</td>\n      <td>3.6384</td>\n      <td>6372.34409</td>\n      <td>35</td>\n    </tr>\n  </tbody>\n</table>\n</div>"
     },
     "execution_count": 27,
     "metadata": {},
     "output_type": "execute_result"
    }
   ],
   "source": [
    "pd.DataFrame(data, columns=['time', 'open', 'high', 'low', 'close', 'vwap', 'volume', 'count']).tail()"
   ],
   "metadata": {
    "collapsed": false,
    "ExecuteTime": {
     "end_time": "2024-04-04T20:13:14.473168Z",
     "start_time": "2024-04-04T20:13:14.459823Z"
    }
   },
   "id": "b551cfed11dc28e8",
   "execution_count": 27
  },
  {
   "cell_type": "code",
   "outputs": [],
   "source": [
    "def read_ohlcv_date(symbol: str) -> pd.DataFrame:\n",
    "    time_to = int(datetime.now().timestamp())\n",
    "    time_from = int((time_to - timedelta(days=120).total_seconds()))\n",
    "    resp = requests.get(f'https://api.kraken.com/0/public/OHLC?pair={symbol.upper()}USD&interval=60&since={time_from}')\n",
    "    data = resp.json()['result'][f'{symbol.upper()}USD']\n",
    "    df = pd.DataFrame(data, columns=['time', 'open', 'high', 'low', 'close', 'vwap', 'volume', 'count'])\n",
    "    df.drop(columns=['vwap', 'count'], inplace=True)\n",
    "    df.rename(columns={'time': 'date'}, inplace=True)\n",
    "    df['date'] = pd.to_datetime(df['date'], unit='s')\n",
    "    df['open'] = df['open'].astype(float)\n",
    "    df['high'] = df['high'].astype(float)\n",
    "    df['low'] = df['low'].astype(float)\n",
    "    df['close'] = df['close'].astype(float)\n",
    "    df['volume'] = df['volume'].astype(float)\n",
    "    df.set_index('date', inplace=True)\n",
    "    df = df.iloc[:-1]\n",
    "    return df"
   ],
   "metadata": {
    "collapsed": false,
    "ExecuteTime": {
     "end_time": "2024-04-04T20:45:18.201395Z",
     "start_time": "2024-04-04T20:45:18.192636Z"
    }
   },
   "id": "301858c924dc09e9",
   "execution_count": 35
  },
  {
   "cell_type": "code",
   "outputs": [
    {
     "data": {
      "text/plain": "                       open    high     low   close        volume\ndate                                                             \n2024-04-04 15:00:00  188.31  188.38  186.49  186.98  10802.083933\n2024-04-04 16:00:00  186.99  188.39  186.93  187.40  11567.076114\n2024-04-04 17:00:00  187.41  189.25  187.02  189.13   5752.176989\n2024-04-04 18:00:00  189.13  190.07  185.71  185.99  44998.024704\n2024-04-04 19:00:00  185.98  187.00  185.66  185.71  17434.080800",
      "text/html": "<div>\n<style scoped>\n    .dataframe tbody tr th:only-of-type {\n        vertical-align: middle;\n    }\n\n    .dataframe tbody tr th {\n        vertical-align: top;\n    }\n\n    .dataframe thead th {\n        text-align: right;\n    }\n</style>\n<table border=\"1\" class=\"dataframe\">\n  <thead>\n    <tr style=\"text-align: right;\">\n      <th></th>\n      <th>open</th>\n      <th>high</th>\n      <th>low</th>\n      <th>close</th>\n      <th>volume</th>\n    </tr>\n    <tr>\n      <th>date</th>\n      <th></th>\n      <th></th>\n      <th></th>\n      <th></th>\n      <th></th>\n    </tr>\n  </thead>\n  <tbody>\n    <tr>\n      <th>2024-04-04 15:00:00</th>\n      <td>188.31</td>\n      <td>188.38</td>\n      <td>186.49</td>\n      <td>186.98</td>\n      <td>10802.083933</td>\n    </tr>\n    <tr>\n      <th>2024-04-04 16:00:00</th>\n      <td>186.99</td>\n      <td>188.39</td>\n      <td>186.93</td>\n      <td>187.40</td>\n      <td>11567.076114</td>\n    </tr>\n    <tr>\n      <th>2024-04-04 17:00:00</th>\n      <td>187.41</td>\n      <td>189.25</td>\n      <td>187.02</td>\n      <td>189.13</td>\n      <td>5752.176989</td>\n    </tr>\n    <tr>\n      <th>2024-04-04 18:00:00</th>\n      <td>189.13</td>\n      <td>190.07</td>\n      <td>185.71</td>\n      <td>185.99</td>\n      <td>44998.024704</td>\n    </tr>\n    <tr>\n      <th>2024-04-04 19:00:00</th>\n      <td>185.98</td>\n      <td>187.00</td>\n      <td>185.66</td>\n      <td>185.71</td>\n      <td>17434.080800</td>\n    </tr>\n  </tbody>\n</table>\n</div>"
     },
     "execution_count": 40,
     "metadata": {},
     "output_type": "execute_result"
    }
   ],
   "source": [
    "sol_df = read_ohlcv_date('sol')\n",
    "sol_df.tail()"
   ],
   "metadata": {
    "collapsed": false,
    "ExecuteTime": {
     "end_time": "2024-04-04T20:47:45.325857Z",
     "start_time": "2024-04-04T20:47:44.966163Z"
    }
   },
   "id": "fe4ae4c4040d514f",
   "execution_count": 40
  },
  {
   "cell_type": "code",
   "outputs": [
    {
     "data": {
      "text/plain": "open      float64\nhigh      float64\nlow       float64\nclose     float64\nvolume    float64\ndtype: object"
     },
     "execution_count": 41,
     "metadata": {},
     "output_type": "execute_result"
    }
   ],
   "source": [
    "sol_df.dtypes"
   ],
   "metadata": {
    "collapsed": false,
    "ExecuteTime": {
     "end_time": "2024-04-04T20:47:47.700051Z",
     "start_time": "2024-04-04T20:47:47.694933Z"
    }
   },
   "id": "3feec9a018261f9c",
   "execution_count": 41
  },
  {
   "cell_type": "code",
   "outputs": [
    {
     "data": {
      "text/plain": "                     PSARl_0.02_0.2  PSARs_0.02_0.2  PSARaf_0.02_0.2  \\\ndate                                                                   \n2024-03-05 21:00:00             NaN             NaN             0.02   \n2024-03-05 22:00:00             NaN          123.87             0.02   \n2024-03-05 23:00:00      118.580000             NaN             0.02   \n2024-03-06 00:00:00      118.580000             NaN             0.02   \n2024-03-06 01:00:00      118.756400             NaN             0.02   \n...                             ...             ...              ...   \n2024-04-04 15:00:00      182.685913             NaN             0.08   \n2024-04-04 16:00:00      183.239840             NaN             0.08   \n2024-04-04 17:00:00      183.749453             NaN             0.08   \n2024-04-04 18:00:00      184.218297             NaN             0.10   \n2024-04-04 19:00:00      184.803467             NaN             0.10   \n\n                     PSARr_0.02_0.2  \ndate                                 \n2024-03-05 21:00:00               0  \n2024-03-05 22:00:00               1  \n2024-03-05 23:00:00               1  \n2024-03-06 00:00:00               0  \n2024-03-06 01:00:00               0  \n...                             ...  \n2024-04-04 15:00:00               0  \n2024-04-04 16:00:00               0  \n2024-04-04 17:00:00               0  \n2024-04-04 18:00:00               0  \n2024-04-04 19:00:00               0  \n\n[719 rows x 4 columns]",
      "text/html": "<div>\n<style scoped>\n    .dataframe tbody tr th:only-of-type {\n        vertical-align: middle;\n    }\n\n    .dataframe tbody tr th {\n        vertical-align: top;\n    }\n\n    .dataframe thead th {\n        text-align: right;\n    }\n</style>\n<table border=\"1\" class=\"dataframe\">\n  <thead>\n    <tr style=\"text-align: right;\">\n      <th></th>\n      <th>PSARl_0.02_0.2</th>\n      <th>PSARs_0.02_0.2</th>\n      <th>PSARaf_0.02_0.2</th>\n      <th>PSARr_0.02_0.2</th>\n    </tr>\n    <tr>\n      <th>date</th>\n      <th></th>\n      <th></th>\n      <th></th>\n      <th></th>\n    </tr>\n  </thead>\n  <tbody>\n    <tr>\n      <th>2024-03-05 21:00:00</th>\n      <td>NaN</td>\n      <td>NaN</td>\n      <td>0.02</td>\n      <td>0</td>\n    </tr>\n    <tr>\n      <th>2024-03-05 22:00:00</th>\n      <td>NaN</td>\n      <td>123.87</td>\n      <td>0.02</td>\n      <td>1</td>\n    </tr>\n    <tr>\n      <th>2024-03-05 23:00:00</th>\n      <td>118.580000</td>\n      <td>NaN</td>\n      <td>0.02</td>\n      <td>1</td>\n    </tr>\n    <tr>\n      <th>2024-03-06 00:00:00</th>\n      <td>118.580000</td>\n      <td>NaN</td>\n      <td>0.02</td>\n      <td>0</td>\n    </tr>\n    <tr>\n      <th>2024-03-06 01:00:00</th>\n      <td>118.756400</td>\n      <td>NaN</td>\n      <td>0.02</td>\n      <td>0</td>\n    </tr>\n    <tr>\n      <th>...</th>\n      <td>...</td>\n      <td>...</td>\n      <td>...</td>\n      <td>...</td>\n    </tr>\n    <tr>\n      <th>2024-04-04 15:00:00</th>\n      <td>182.685913</td>\n      <td>NaN</td>\n      <td>0.08</td>\n      <td>0</td>\n    </tr>\n    <tr>\n      <th>2024-04-04 16:00:00</th>\n      <td>183.239840</td>\n      <td>NaN</td>\n      <td>0.08</td>\n      <td>0</td>\n    </tr>\n    <tr>\n      <th>2024-04-04 17:00:00</th>\n      <td>183.749453</td>\n      <td>NaN</td>\n      <td>0.08</td>\n      <td>0</td>\n    </tr>\n    <tr>\n      <th>2024-04-04 18:00:00</th>\n      <td>184.218297</td>\n      <td>NaN</td>\n      <td>0.10</td>\n      <td>0</td>\n    </tr>\n    <tr>\n      <th>2024-04-04 19:00:00</th>\n      <td>184.803467</td>\n      <td>NaN</td>\n      <td>0.10</td>\n      <td>0</td>\n    </tr>\n  </tbody>\n</table>\n<p>719 rows × 4 columns</p>\n</div>"
     },
     "execution_count": 42,
     "metadata": {},
     "output_type": "execute_result"
    }
   ],
   "source": [
    "sol_df.ta.macd(append=True)\n",
    "sol_df.ta.rsi(append=True)\n",
    "sol_df.ta.bbands(append=True)\n",
    "sol_df.ta.obv(append=True)\n",
    "\n",
    "sol_df.ta.sma(length=20, append=True)\n",
    "sol_df.ta.ema(length=50, append=True)\n",
    "sol_df.ta.stoch(append=True)\n",
    "sol_df.ta.adx(append=True)\n",
    "\n",
    "sol_df.ta.willr(append=True)\n",
    "sol_df.ta.cmf(append=True)\n",
    "sol_df.ta.psar(append=True)"
   ],
   "metadata": {
    "collapsed": false,
    "ExecuteTime": {
     "end_time": "2024-04-04T20:47:49.700348Z",
     "start_time": "2024-04-04T20:47:49.552778Z"
    }
   },
   "id": "e910fdb4b462c767",
   "execution_count": 42
  },
  {
   "cell_type": "code",
   "outputs": [
    {
     "data": {
      "text/plain": "                       open    high     low   close        volume  \\\ndate                                                                \n2024-04-04 15:00:00  188.31  188.38  186.49  186.98  10802.083933   \n2024-04-04 16:00:00  186.99  188.39  186.93  187.40  11567.076114   \n2024-04-04 17:00:00  187.41  189.25  187.02  189.13   5752.176989   \n2024-04-04 18:00:00  189.13  190.07  185.71  185.99  44998.024704   \n2024-04-04 19:00:00  185.98  187.00  185.66  185.71  17434.080800   \n\n                     MACD_12_26_9  MACDh_12_26_9  MACDs_12_26_9     RSI_14  \\\ndate                                                                         \n2024-04-04 15:00:00      0.249549       0.445671      -0.196122  53.482132   \n2024-04-04 16:00:00      0.318373       0.411596      -0.093223  54.917410   \n2024-04-04 17:00:00      0.506672       0.479916       0.026756  60.344874   \n2024-04-04 18:00:00      0.397942       0.296949       0.100993  48.849643   \n2024-04-04 19:00:00      0.285883       0.147912       0.137971  47.972078   \n\n                      BBL_5_2.0  ...  STOCHd_14_3_3     ADX_14     DMP_14  \\\ndate                             ...                                        \n2024-04-04 15:00:00  185.198690  ...      84.132082  15.031661  24.719187   \n2024-04-04 16:00:00  186.323149  ...      82.271468  15.022850  23.552654   \n2024-04-04 17:00:00  186.513669  ...      79.990380  15.439275  24.662580   \n2024-04-04 18:00:00  185.398630  ...      77.450861  14.938403  21.340463   \n2024-04-04 19:00:00  184.613391  ...      72.083712  14.440714  20.429627   \n\n                        DMN_14   WILLR_14    CMF_20  PSARl_0.02_0.2  \\\ndate                                                                  \n2024-04-04 15:00:00  18.330878 -28.463203  0.139405      182.685913   \n2024-04-04 16:00:00  17.441166 -23.917749  0.157051      183.239840   \n2024-04-04 17:00:00  16.151669  -5.194805  0.090559      183.749453   \n2024-04-04 18:00:00  18.023256 -49.695493 -0.122071      184.218297   \n2024-04-04 19:00:00  17.413261 -59.972490 -0.158017      184.803467   \n\n                     PSARs_0.02_0.2  PSARaf_0.02_0.2  PSARr_0.02_0.2  \ndate                                                                  \n2024-04-04 15:00:00             NaN             0.08               0  \n2024-04-04 16:00:00             NaN             0.08               0  \n2024-04-04 17:00:00             NaN             0.08               0  \n2024-04-04 18:00:00             NaN             0.10               0  \n2024-04-04 19:00:00             NaN             0.10               0  \n\n[5 rows x 28 columns]",
      "text/html": "<div>\n<style scoped>\n    .dataframe tbody tr th:only-of-type {\n        vertical-align: middle;\n    }\n\n    .dataframe tbody tr th {\n        vertical-align: top;\n    }\n\n    .dataframe thead th {\n        text-align: right;\n    }\n</style>\n<table border=\"1\" class=\"dataframe\">\n  <thead>\n    <tr style=\"text-align: right;\">\n      <th></th>\n      <th>open</th>\n      <th>high</th>\n      <th>low</th>\n      <th>close</th>\n      <th>volume</th>\n      <th>MACD_12_26_9</th>\n      <th>MACDh_12_26_9</th>\n      <th>MACDs_12_26_9</th>\n      <th>RSI_14</th>\n      <th>BBL_5_2.0</th>\n      <th>...</th>\n      <th>STOCHd_14_3_3</th>\n      <th>ADX_14</th>\n      <th>DMP_14</th>\n      <th>DMN_14</th>\n      <th>WILLR_14</th>\n      <th>CMF_20</th>\n      <th>PSARl_0.02_0.2</th>\n      <th>PSARs_0.02_0.2</th>\n      <th>PSARaf_0.02_0.2</th>\n      <th>PSARr_0.02_0.2</th>\n    </tr>\n    <tr>\n      <th>date</th>\n      <th></th>\n      <th></th>\n      <th></th>\n      <th></th>\n      <th></th>\n      <th></th>\n      <th></th>\n      <th></th>\n      <th></th>\n      <th></th>\n      <th></th>\n      <th></th>\n      <th></th>\n      <th></th>\n      <th></th>\n      <th></th>\n      <th></th>\n      <th></th>\n      <th></th>\n      <th></th>\n      <th></th>\n    </tr>\n  </thead>\n  <tbody>\n    <tr>\n      <th>2024-04-04 15:00:00</th>\n      <td>188.31</td>\n      <td>188.38</td>\n      <td>186.49</td>\n      <td>186.98</td>\n      <td>10802.083933</td>\n      <td>0.249549</td>\n      <td>0.445671</td>\n      <td>-0.196122</td>\n      <td>53.482132</td>\n      <td>185.198690</td>\n      <td>...</td>\n      <td>84.132082</td>\n      <td>15.031661</td>\n      <td>24.719187</td>\n      <td>18.330878</td>\n      <td>-28.463203</td>\n      <td>0.139405</td>\n      <td>182.685913</td>\n      <td>NaN</td>\n      <td>0.08</td>\n      <td>0</td>\n    </tr>\n    <tr>\n      <th>2024-04-04 16:00:00</th>\n      <td>186.99</td>\n      <td>188.39</td>\n      <td>186.93</td>\n      <td>187.40</td>\n      <td>11567.076114</td>\n      <td>0.318373</td>\n      <td>0.411596</td>\n      <td>-0.093223</td>\n      <td>54.917410</td>\n      <td>186.323149</td>\n      <td>...</td>\n      <td>82.271468</td>\n      <td>15.022850</td>\n      <td>23.552654</td>\n      <td>17.441166</td>\n      <td>-23.917749</td>\n      <td>0.157051</td>\n      <td>183.239840</td>\n      <td>NaN</td>\n      <td>0.08</td>\n      <td>0</td>\n    </tr>\n    <tr>\n      <th>2024-04-04 17:00:00</th>\n      <td>187.41</td>\n      <td>189.25</td>\n      <td>187.02</td>\n      <td>189.13</td>\n      <td>5752.176989</td>\n      <td>0.506672</td>\n      <td>0.479916</td>\n      <td>0.026756</td>\n      <td>60.344874</td>\n      <td>186.513669</td>\n      <td>...</td>\n      <td>79.990380</td>\n      <td>15.439275</td>\n      <td>24.662580</td>\n      <td>16.151669</td>\n      <td>-5.194805</td>\n      <td>0.090559</td>\n      <td>183.749453</td>\n      <td>NaN</td>\n      <td>0.08</td>\n      <td>0</td>\n    </tr>\n    <tr>\n      <th>2024-04-04 18:00:00</th>\n      <td>189.13</td>\n      <td>190.07</td>\n      <td>185.71</td>\n      <td>185.99</td>\n      <td>44998.024704</td>\n      <td>0.397942</td>\n      <td>0.296949</td>\n      <td>0.100993</td>\n      <td>48.849643</td>\n      <td>185.398630</td>\n      <td>...</td>\n      <td>77.450861</td>\n      <td>14.938403</td>\n      <td>21.340463</td>\n      <td>18.023256</td>\n      <td>-49.695493</td>\n      <td>-0.122071</td>\n      <td>184.218297</td>\n      <td>NaN</td>\n      <td>0.10</td>\n      <td>0</td>\n    </tr>\n    <tr>\n      <th>2024-04-04 19:00:00</th>\n      <td>185.98</td>\n      <td>187.00</td>\n      <td>185.66</td>\n      <td>185.71</td>\n      <td>17434.080800</td>\n      <td>0.285883</td>\n      <td>0.147912</td>\n      <td>0.137971</td>\n      <td>47.972078</td>\n      <td>184.613391</td>\n      <td>...</td>\n      <td>72.083712</td>\n      <td>14.440714</td>\n      <td>20.429627</td>\n      <td>17.413261</td>\n      <td>-59.972490</td>\n      <td>-0.158017</td>\n      <td>184.803467</td>\n      <td>NaN</td>\n      <td>0.10</td>\n      <td>0</td>\n    </tr>\n  </tbody>\n</table>\n<p>5 rows × 28 columns</p>\n</div>"
     },
     "execution_count": 43,
     "metadata": {},
     "output_type": "execute_result"
    }
   ],
   "source": [
    "sol_df.tail()"
   ],
   "metadata": {
    "collapsed": false,
    "ExecuteTime": {
     "end_time": "2024-04-04T20:47:53.510514Z",
     "start_time": "2024-04-04T20:47:53.482502Z"
    }
   },
   "id": "7896bf1454228d58",
   "execution_count": 43
  },
  {
   "cell_type": "code",
   "outputs": [],
   "source": [
    "sol_df['OBV_in_million'] = sol_df['OBV']/1e7\n",
    "sol_df['MACD_histogram_12_26_9'] = sol_df['MACDh_12_26_9']"
   ],
   "metadata": {
    "collapsed": false,
    "ExecuteTime": {
     "end_time": "2024-04-04T20:51:39.412488Z",
     "start_time": "2024-04-04T20:51:39.406651Z"
    }
   },
   "id": "95e1bf929c054d29",
   "execution_count": 45
  },
  {
   "cell_type": "code",
   "outputs": [
    {
     "name": "stdout",
     "output_type": "stream",
     "text": [
      "Summary of Technical Indicators for the Last Day:\n",
      "close                     185.710000\n",
      "MACD_12_26_9                0.285883\n",
      "MACD_histogram_12_26_9      0.147912\n",
      "RSI_14                     47.972078\n",
      "BBL_5_2.0                 184.613391\n",
      "BBM_5_2.0                 187.042000\n",
      "BBU_5_2.0                 189.470609\n",
      "SMA_20                    185.639000\n",
      "EMA_50                    186.617856\n",
      "OBV_in_million              0.079841\n",
      "STOCHk_14_3_3              61.712404\n",
      "STOCHd_14_3_3              72.083712\n",
      "ADX_14                     14.440714\n",
      "WILLR_14                  -59.972490\n",
      "CMF_20                     -0.158017\n",
      "PSARl_0.02_0.2            184.803467\n",
      "PSARs_0.02_0.2                   NaN\n",
      "Name: 2024-04-04 19:00:00, dtype: float64\n"
     ]
    }
   ],
   "source": [
    "last_day_summary = sol_df.iloc[-1][['close',\n",
    "    'MACD_12_26_9','MACD_histogram_12_26_9', 'RSI_14', 'BBL_5_2.0', 'BBM_5_2.0', 'BBU_5_2.0','SMA_20', 'EMA_50','OBV_in_million', 'STOCHk_14_3_3', \n",
    "    'STOCHd_14_3_3', 'ADX_14',  'WILLR_14', 'CMF_20', \n",
    "    'PSARl_0.02_0.2', 'PSARs_0.02_0.2'\n",
    "]]\n",
    "\n",
    "print(\"Summary of Technical Indicators for the Last Day:\")\n",
    "print(last_day_summary)"
   ],
   "metadata": {
    "collapsed": false,
    "ExecuteTime": {
     "end_time": "2024-04-04T20:51:48.667191Z",
     "start_time": "2024-04-04T20:51:48.661772Z"
    }
   },
   "id": "74f5f35f0fef135c",
   "execution_count": 46
  },
  {
   "cell_type": "code",
   "outputs": [],
   "source": [
    "OPENAI_API_KEY = getpass(\"Enter your OpenAI API Key: \")"
   ],
   "metadata": {
    "collapsed": false,
    "ExecuteTime": {
     "end_time": "2024-04-04T21:52:10.398309Z",
     "start_time": "2024-04-04T21:50:02.593504Z"
    }
   },
   "id": "2471e0996ecb28b3",
   "execution_count": 52
  },
  {
   "cell_type": "code",
   "outputs": [],
   "source": [
    "os.environ['OPENAI_API_KEY'] = OPENAI_API_KEY"
   ],
   "metadata": {
    "collapsed": false,
    "ExecuteTime": {
     "end_time": "2024-04-04T21:52:33.244841Z",
     "start_time": "2024-04-04T21:52:33.241036Z"
    }
   },
   "id": "997a113783c57e0d",
   "execution_count": 55
  },
  {
   "cell_type": "code",
   "outputs": [],
   "source": [
    "llm = ChatOpenAI(model=\"gpt-4-turbo-preview\", temperature=0)\n",
    "# llm = OpenAI(model=\"gpt-3.5-turbo-instruct\", temperature=0)\n",
    "# llm = ChatOpenAI(model=\"gpt-3.5-turbo\", temperature=0)"
   ],
   "metadata": {
    "collapsed": false,
    "ExecuteTime": {
     "end_time": "2024-04-04T22:12:52.429947Z",
     "start_time": "2024-04-04T22:12:52.407989Z"
    }
   },
   "id": "a908368ae30f832c",
   "execution_count": 115
  },
  {
   "cell_type": "code",
   "outputs": [],
   "source": [
    "prompt = ChatPromptTemplate.from_template(\"\"\"\n",
    "Assume the role as a leading Technical Analysis (TA) expert in the stock market, \\\n",
    "a modern counterpart to Charles Dow, John Bollinger, and Alan Andrews. \\\n",
    "Your mastery encompasses both stock fundamentals and intricate technical indicators. \\\n",
    "You possess the ability to decode complex market dynamics, \\\n",
    "providing clear insights and recommendations backed by a thorough understanding of interrelated factors. \\\n",
    "Your expertise extends to practical tools like the pandas_ta module, \\\n",
    "allowing you to navigate data intricacies with ease. \\\n",
    "As a TA authority, your role is to decipher market trends, make informed predictions, and offer valuable perspectives.\n",
    "\n",
    "given {symbol} TA data as below on the last trading day, what will be the next few days possible crypto price movement? \n",
    "\n",
    "Summary of Technical Indicators for the Last Day:\n",
    "{last_day_summary}\"\"\".format(symbol=\"SOL\", last_day_summary=last_day_summary))"
   ],
   "metadata": {
    "collapsed": false,
    "ExecuteTime": {
     "end_time": "2024-04-04T22:12:54.056422Z",
     "start_time": "2024-04-04T22:12:54.051551Z"
    }
   },
   "id": "615c31ed1bb70ca6",
   "execution_count": 116
  },
  {
   "cell_type": "code",
   "outputs": [],
   "source": [
    "chain = prompt | llm | StrOutputParser()"
   ],
   "metadata": {
    "collapsed": false,
    "ExecuteTime": {
     "end_time": "2024-04-04T22:12:55.408021Z",
     "start_time": "2024-04-04T22:12:55.404874Z"
    }
   },
   "id": "aab26941b553f57",
   "execution_count": 117
  },
  {
   "cell_type": "code",
   "outputs": [],
   "source": [
    "response = chain.invoke({})"
   ],
   "metadata": {
    "collapsed": false,
    "ExecuteTime": {
     "end_time": "2024-04-04T22:13:23.605015Z",
     "start_time": "2024-04-04T22:12:56.672454Z"
    }
   },
   "id": "5cc4b4a8a7fece11",
   "execution_count": 118
  },
  {
   "cell_type": "code",
   "outputs": [
    {
     "name": "stdout",
     "output_type": "stream",
     "text": [
      "Analyzing the provided technical indicators for SOL on the last trading day, we can derive insights into the potential price movement in the next few days. Let's break down the key indicators:\n",
      "\n",
      "1. **MACD (Moving Average Convergence Divergence)**: The MACD value is positive (0.285883), and the MACD histogram (0.147912) is also positive, indicating a bullish momentum. However, the relatively small magnitude of these values suggests that while the trend is upward, it might not be very strong.\n",
      "\n",
      "2. **RSI (Relative Strength Index)**: The RSI stands at 47.972078, which is near the midpoint of 50. This indicates that the asset is neither overbought nor oversold, suggesting a potential continuation of the current trend or a consolidation phase.\n",
      "\n",
      "3. **Bollinger Bands (BB)**: The closing price (185.710000) is slightly below the BB middle band (187.042000), indicating a slight bearish bias in the very short term. However, the price is within the bands, suggesting that volatility is not extreme.\n",
      "\n",
      "4. **SMA (Simple Moving Average) and EMA (Exponential Moving Average)**: The close is slightly above the SMA_20 (185.639000) but below the EMA_50 (186.617856), indicating a mixed signal. The price being above the SMA_20 suggests short-term bullishness, while being below the EMA_50 suggests caution in the medium term.\n",
      "\n",
      "5. **OBV (On-Balance Volume)**: The OBV is relatively low, indicating that there is not significant volume behind the current price movement. This could suggest a lack of strong conviction among traders.\n",
      "\n",
      "6. **Stochastic Oscillator (STOCH)**: The STOCHk (61.712404) is above the STOCHd (72.083712), indicating a potential slowing of momentum. However, both are above the midpoint of 50, suggesting some bullish sentiment.\n",
      "\n",
      "7. **ADX (Average Directional Index)**: With an ADX value of 14.440714, the trend strength is considered weak. This suggests that the current trend is not very strong and could be susceptible to changes.\n",
      "\n",
      "8. **Williams %R (WILLR)**: The WILLR is at -59.972490, which is in the middle of its range, indicating a lack of strong momentum in either direction.\n",
      "\n",
      "9. **CMF (Chaikin Money Flow)**: A negative CMF (-0.158017) indicates that there is more selling pressure than buying pressure, suggesting bearish sentiment.\n",
      "\n",
      "10. **PSAR (Parabolic SAR)**: The presence of a PSAR level (184.803467) without an accompanying PSARs value suggests that the current trend is upwards, as the PSAR is acting as a potential support level.\n",
      "\n",
      "**Conclusion and Prediction**:\n",
      "The mixed signals from the technical indicators suggest that SOL is currently in a phase of consolidation with a slight bullish bias due to the positive MACD and the price being above the SMA_20. However, the weak ADX, negative CMF, and the RSI being near the midpoint indicate that any upward movement might not be very strong or sustained without additional bullish signals.\n",
      "\n",
      "In the next few days, we might expect SOL to experience slight upward movement or continue to consolidate around the current price levels. Traders should watch for a potential breakout above the EMA_50 or a drop below the SMA_20 for stronger directional cues. Given the mixed signals, it's advisable to proceed with caution and look for confirmation from additional indicators or market news that could influence the price movement.\n"
     ]
    }
   ],
   "source": [
    "print(response)"
   ],
   "metadata": {
    "collapsed": false,
    "ExecuteTime": {
     "end_time": "2024-04-04T22:13:23.622170Z",
     "start_time": "2024-04-04T22:13:23.609532Z"
    }
   },
   "id": "eaba2653b081ca50",
   "execution_count": 119
  }
 ],
 "metadata": {
  "kernelspec": {
   "display_name": "Python 3",
   "language": "python",
   "name": "python3"
  },
  "language_info": {
   "codemirror_mode": {
    "name": "ipython",
    "version": 2
   },
   "file_extension": ".py",
   "mimetype": "text/x-python",
   "name": "python",
   "nbconvert_exporter": "python",
   "pygments_lexer": "ipython2",
   "version": "2.7.6"
  }
 },
 "nbformat": 4,
 "nbformat_minor": 5
}
