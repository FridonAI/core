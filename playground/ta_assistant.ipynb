{
 "cells": [
  {
   "cell_type": "code",
   "execution_count": 2,
   "id": "initial_id",
   "metadata": {
    "collapsed": true,
    "ExecuteTime": {
     "end_time": "2024-04-07T20:49:19.747718Z",
     "start_time": "2024-04-07T20:49:17.405399Z"
    }
   },
   "outputs": [],
   "source": [
    "import os\n",
    "\n",
    "import pandas as pd\n",
    "import pandas_ta as ta\n",
    "import numpy as np\n",
    "import matplotlib.pyplot as plt\n",
    "import requests\n",
    "from datetime import datetime, timedelta\n",
    "from langchain_openai import ChatOpenAI, OpenAI\n",
    "from langchain_core.prompts import ChatPromptTemplate, MessagesPlaceholder\n",
    "from langchain_core.output_parsers import StrOutputParser\n",
    "from getpass import getpass"
   ]
  },
  {
   "cell_type": "code",
   "outputs": [
    {
     "data": {
      "text/plain": "(1702154959, 1712522959)"
     },
     "execution_count": 3,
     "metadata": {},
     "output_type": "execute_result"
    }
   ],
   "source": [
    "time_to = int(datetime.now().timestamp())\n",
    "time_from = int((time_to - timedelta(days=120).total_seconds()))\n",
    "time_from, time_to"
   ],
   "metadata": {
    "collapsed": false,
    "ExecuteTime": {
     "end_time": "2024-04-07T20:49:19.755994Z",
     "start_time": "2024-04-07T20:49:19.749418Z"
    }
   },
   "id": "95f3bb3cbd7425fa",
   "execution_count": 3
  },
  {
   "cell_type": "code",
   "outputs": [],
   "source": [
    "resp = requests.get('https://api.kraken.com/0/public/OHLC?pair=WIFUSD&interval=60&since=1701891170')\n",
    "\n",
    "data = resp.json()['result']['WIFUSD']\n"
   ],
   "metadata": {
    "collapsed": false
   },
   "id": "9618bcb500e6c99c",
   "execution_count": null
  },
  {
   "cell_type": "code",
   "outputs": [],
   "source": [
    "pd.DataFrame(data, columns=['time', 'open', 'high', 'low', 'close', 'vwap', 'volume', 'count']).tail()"
   ],
   "metadata": {
    "collapsed": false
   },
   "id": "b551cfed11dc28e8",
   "execution_count": null
  },
  {
   "cell_type": "code",
   "outputs": [],
   "source": [
    "def read_ohlcv_date(symbol: str) -> pd.DataFrame:\n",
    "    time_to = int(datetime.now().timestamp())\n",
    "    time_from = int((time_to - timedelta(days=120).total_seconds()))\n",
    "    resp = requests.get(f'https://api.kraken.com/0/public/OHLC?pair={symbol.upper()}USD&interval=60&since={time_from}')\n",
    "    print(resp.status_code)\n",
    "    print(resp.json())\n",
    "    data = resp.json()['result'][f'{symbol.upper()}USD']\n",
    "    df = pd.DataFrame(data, columns=['time', 'open', 'high', 'low', 'close', 'vwap', 'volume', 'count'])\n",
    "    df.drop(columns=['vwap', 'count'], inplace=True)\n",
    "    df.rename(columns={'time': 'date'}, inplace=True)\n",
    "    df['date'] = pd.to_datetime(df['date'], unit='s')\n",
    "    df['open'] = df['open'].astype(float)\n",
    "    df['high'] = df['high'].astype(float)\n",
    "    df['low'] = df['low'].astype(float)\n",
    "    df['close'] = df['close'].astype(float)\n",
    "    df['volume'] = df['volume'].astype(float)\n",
    "    df.set_index('date', inplace=True)\n",
    "    df = df.iloc[:-1]\n",
    "    return df"
   ],
   "metadata": {
    "collapsed": false,
    "ExecuteTime": {
     "end_time": "2024-04-07T20:59:09.468902Z",
     "start_time": "2024-04-07T20:59:09.447292Z"
    }
   },
   "id": "301858c924dc09e9",
   "execution_count": 8
  },
  {
   "cell_type": "code",
   "outputs": [
    {
     "name": "stdout",
     "output_type": "stream",
     "text": [
      "200\n",
      "{'error': ['EQuery:Unknown asset pair']}\n"
     ]
    },
    {
     "ename": "KeyError",
     "evalue": "'result'",
     "output_type": "error",
     "traceback": [
      "\u001B[0;31m---------------------------------------------------------------------------\u001B[0m",
      "\u001B[0;31mKeyError\u001B[0m                                  Traceback (most recent call last)",
      "Cell \u001B[0;32mIn[9], line 1\u001B[0m\n\u001B[0;32m----> 1\u001B[0m sol_df \u001B[38;5;241m=\u001B[39m \u001B[43mread_ohlcv_date\u001B[49m\u001B[43m(\u001B[49m\u001B[38;5;124;43m'\u001B[39;49m\u001B[38;5;124;43mboden\u001B[39;49m\u001B[38;5;124;43m'\u001B[39;49m\u001B[43m)\u001B[49m\n\u001B[1;32m      2\u001B[0m sol_df\u001B[38;5;241m.\u001B[39mtail()\n",
      "Cell \u001B[0;32mIn[8], line 7\u001B[0m, in \u001B[0;36mread_ohlcv_date\u001B[0;34m(symbol)\u001B[0m\n\u001B[1;32m      5\u001B[0m \u001B[38;5;28mprint\u001B[39m(resp\u001B[38;5;241m.\u001B[39mstatus_code)\n\u001B[1;32m      6\u001B[0m \u001B[38;5;28mprint\u001B[39m(resp\u001B[38;5;241m.\u001B[39mjson())\n\u001B[0;32m----> 7\u001B[0m data \u001B[38;5;241m=\u001B[39m \u001B[43mresp\u001B[49m\u001B[38;5;241;43m.\u001B[39;49m\u001B[43mjson\u001B[49m\u001B[43m(\u001B[49m\u001B[43m)\u001B[49m\u001B[43m[\u001B[49m\u001B[38;5;124;43m'\u001B[39;49m\u001B[38;5;124;43mresult\u001B[39;49m\u001B[38;5;124;43m'\u001B[39;49m\u001B[43m]\u001B[49m[\u001B[38;5;124mf\u001B[39m\u001B[38;5;124m'\u001B[39m\u001B[38;5;132;01m{\u001B[39;00msymbol\u001B[38;5;241m.\u001B[39mupper()\u001B[38;5;132;01m}\u001B[39;00m\u001B[38;5;124mUSD\u001B[39m\u001B[38;5;124m'\u001B[39m]\n\u001B[1;32m      8\u001B[0m df \u001B[38;5;241m=\u001B[39m pd\u001B[38;5;241m.\u001B[39mDataFrame(data, columns\u001B[38;5;241m=\u001B[39m[\u001B[38;5;124m'\u001B[39m\u001B[38;5;124mtime\u001B[39m\u001B[38;5;124m'\u001B[39m, \u001B[38;5;124m'\u001B[39m\u001B[38;5;124mopen\u001B[39m\u001B[38;5;124m'\u001B[39m, \u001B[38;5;124m'\u001B[39m\u001B[38;5;124mhigh\u001B[39m\u001B[38;5;124m'\u001B[39m, \u001B[38;5;124m'\u001B[39m\u001B[38;5;124mlow\u001B[39m\u001B[38;5;124m'\u001B[39m, \u001B[38;5;124m'\u001B[39m\u001B[38;5;124mclose\u001B[39m\u001B[38;5;124m'\u001B[39m, \u001B[38;5;124m'\u001B[39m\u001B[38;5;124mvwap\u001B[39m\u001B[38;5;124m'\u001B[39m, \u001B[38;5;124m'\u001B[39m\u001B[38;5;124mvolume\u001B[39m\u001B[38;5;124m'\u001B[39m, \u001B[38;5;124m'\u001B[39m\u001B[38;5;124mcount\u001B[39m\u001B[38;5;124m'\u001B[39m])\n\u001B[1;32m      9\u001B[0m df\u001B[38;5;241m.\u001B[39mdrop(columns\u001B[38;5;241m=\u001B[39m[\u001B[38;5;124m'\u001B[39m\u001B[38;5;124mvwap\u001B[39m\u001B[38;5;124m'\u001B[39m, \u001B[38;5;124m'\u001B[39m\u001B[38;5;124mcount\u001B[39m\u001B[38;5;124m'\u001B[39m], inplace\u001B[38;5;241m=\u001B[39m\u001B[38;5;28;01mTrue\u001B[39;00m)\n",
      "\u001B[0;31mKeyError\u001B[0m: 'result'"
     ]
    }
   ],
   "source": [
    "sol_df = read_ohlcv_date('boden')\n",
    "sol_df.tail()"
   ],
   "metadata": {
    "collapsed": false,
    "ExecuteTime": {
     "end_time": "2024-04-07T20:59:11.371942Z",
     "start_time": "2024-04-07T20:59:10.965388Z"
    }
   },
   "id": "fe4ae4c4040d514f",
   "execution_count": 9
  },
  {
   "cell_type": "code",
   "outputs": [],
   "source": [
    "sol_df.dtypes"
   ],
   "metadata": {
    "collapsed": false
   },
   "id": "3feec9a018261f9c",
   "execution_count": null
  },
  {
   "cell_type": "code",
   "outputs": [],
   "source": [
    "sol_df.ta.macd(append=True)\n",
    "sol_df.ta.rsi(append=True)\n",
    "sol_df.ta.bbands(append=True)\n",
    "sol_df.ta.obv(append=True)\n",
    "\n",
    "sol_df.ta.sma(length=20, append=True)\n",
    "sol_df.ta.ema(length=50, append=True)\n",
    "sol_df.ta.stoch(append=True)\n",
    "sol_df.ta.adx(append=True)\n",
    "\n",
    "sol_df.ta.willr(append=True)\n",
    "sol_df.ta.cmf(append=True)\n",
    "sol_df.ta.psar(append=True)"
   ],
   "metadata": {
    "collapsed": false
   },
   "id": "e910fdb4b462c767",
   "execution_count": null
  },
  {
   "cell_type": "code",
   "outputs": [],
   "source": [
    "sol_df.tail()"
   ],
   "metadata": {
    "collapsed": false
   },
   "id": "7896bf1454228d58",
   "execution_count": null
  },
  {
   "cell_type": "code",
   "outputs": [],
   "source": [
    "sol_df['OBV_in_million'] = sol_df['OBV']/1e7\n",
    "sol_df['MACD_histogram_12_26_9'] = sol_df['MACDh_12_26_9']"
   ],
   "metadata": {
    "collapsed": false
   },
   "id": "95e1bf929c054d29",
   "execution_count": null
  },
  {
   "cell_type": "code",
   "outputs": [],
   "source": [
    "last_day_summary = sol_df.iloc[-1][['close',\n",
    "    'MACD_12_26_9','MACD_histogram_12_26_9', 'RSI_14', 'BBL_5_2.0', 'BBM_5_2.0', 'BBU_5_2.0','SMA_20', 'EMA_50','OBV_in_million', 'STOCHk_14_3_3', \n",
    "    'STOCHd_14_3_3', 'ADX_14',  'WILLR_14', 'CMF_20', \n",
    "    'PSARl_0.02_0.2', 'PSARs_0.02_0.2'\n",
    "]]\n",
    "\n",
    "print(\"Summary of Technical Indicators for the Last Day:\")\n",
    "print(last_day_summary)"
   ],
   "metadata": {
    "collapsed": false
   },
   "id": "74f5f35f0fef135c",
   "execution_count": null
  },
  {
   "cell_type": "code",
   "outputs": [],
   "source": [
    "OPENAI_API_KEY = getpass(\"Enter your OpenAI API Key: \")"
   ],
   "metadata": {
    "collapsed": false
   },
   "id": "2471e0996ecb28b3",
   "execution_count": null
  },
  {
   "cell_type": "code",
   "outputs": [],
   "source": [
    "os.environ['OPENAI_API_KEY'] = OPENAI_API_KEY"
   ],
   "metadata": {
    "collapsed": false
   },
   "id": "997a113783c57e0d",
   "execution_count": null
  },
  {
   "cell_type": "code",
   "outputs": [],
   "source": [
    "llm = ChatOpenAI(model=\"gpt-4-turbo-preview\", temperature=0)\n",
    "# llm = OpenAI(model=\"gpt-3.5-turbo-instruct\", temperature=0)\n",
    "# llm = ChatOpenAI(model=\"gpt-3.5-turbo\", temperature=0)"
   ],
   "metadata": {
    "collapsed": false
   },
   "id": "a908368ae30f832c",
   "execution_count": null
  },
  {
   "cell_type": "code",
   "outputs": [],
   "source": [
    "prompt = ChatPromptTemplate.from_template(\"\"\"\n",
    "Assume the role as a leading Technical Analysis (TA) expert in the stock market, \\\n",
    "a modern counterpart to Charles Dow, John Bollinger, and Alan Andrews. \\\n",
    "Your mastery encompasses both stock fundamentals and intricate technical indicators. \\\n",
    "You possess the ability to decode complex market dynamics, \\\n",
    "providing clear insights and recommendations backed by a thorough understanding of interrelated factors. \\\n",
    "Your expertise extends to practical tools like the pandas_ta module, \\\n",
    "allowing you to navigate data intricacies with ease. \\\n",
    "As a TA authority, your role is to decipher market trends, make informed predictions, and offer valuable perspectives.\n",
    "\n",
    "given {symbol} TA data as below on the last trading day, what will be the next few days possible crypto price movement? \n",
    "\n",
    "Summary of Technical Indicators for the Last Day:\n",
    "{last_day_summary}\"\"\".format(symbol=\"WIF\", last_day_summary=last_day_summary))"
   ],
   "metadata": {
    "collapsed": false
   },
   "id": "615c31ed1bb70ca6",
   "execution_count": null
  },
  {
   "cell_type": "code",
   "outputs": [],
   "source": [
    "chain = prompt | llm | StrOutputParser()"
   ],
   "metadata": {
    "collapsed": false
   },
   "id": "aab26941b553f57",
   "execution_count": null
  },
  {
   "cell_type": "code",
   "outputs": [],
   "source": [
    "response = chain.invoke({})"
   ],
   "metadata": {
    "collapsed": false
   },
   "id": "5cc4b4a8a7fece11",
   "execution_count": null
  },
  {
   "cell_type": "code",
   "outputs": [],
   "source": [
    "print(response)"
   ],
   "metadata": {
    "collapsed": false
   },
   "id": "eaba2653b081ca50",
   "execution_count": null
  }
 ],
 "metadata": {
  "kernelspec": {
   "display_name": "Python 3",
   "language": "python",
   "name": "python3"
  },
  "language_info": {
   "codemirror_mode": {
    "name": "ipython",
    "version": 2
   },
   "file_extension": ".py",
   "mimetype": "text/x-python",
   "name": "python",
   "nbconvert_exporter": "python",
   "pygments_lexer": "ipython2",
   "version": "2.7.6"
  }
 },
 "nbformat": 4,
 "nbformat_minor": 5
}
